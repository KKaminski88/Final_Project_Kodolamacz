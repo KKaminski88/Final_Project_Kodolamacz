{
 "cells": [
  {
   "cell_type": "markdown",
   "id": "78a1b63a",
   "metadata": {
    "id": "78a1b63a"
   },
   "source": [
    "# Prediction of S&P500 index change using technical analysis and Machine Learning"
   ]
  },
  {
   "cell_type": "markdown",
   "id": "ab2c778c",
   "metadata": {
    "id": "ab2c778c"
   },
   "source": [
    "## Project Overview:\n",
    "\n",
    "The S&P500, which includes 500 of the largest companies listed on the stock market in the United States, represents a broad cross-section of the U.S. equity market. The primary aim of this project was to build a machine learning classifier capable of will tomorrow sesion will end with significant up or down. Importence of movement is based on historical daily returns.\n",
    "\n",
    "**Why classification not regression?**\n",
    "\n",
    "While it may seem like setting this up as a regression problem (predicting where the price will be) I recognized that, according to the random walk hypothesis, not every move is worth tracking. Therefore, I chose to classify them as either a significant decline (1) or a significant increase (2). On the other hand, everything in between is considered random walk (value 0) and not worth trading.\n"
   ]
  },
  {
   "cell_type": "markdown",
   "id": "2ea837a9",
   "metadata": {
    "id": "2ea837a9"
   },
   "source": [
    "## Install yahoo finance and ta library"
   ]
  },
  {
   "cell_type": "code",
   "execution_count": 1,
   "id": "8ab76a4a",
   "metadata": {
    "colab": {
     "base_uri": "https://localhost:8080/"
    },
    "id": "8ab76a4a",
    "outputId": "2c0086b3-239d-4893-8d14-8c4d400ebc9a"
   },
   "outputs": [
    {
     "name": "stdout",
     "output_type": "stream",
     "text": [
      "Requirement already satisfied: yfinance in /Users/krzysztofkaminski/anaconda3/lib/python3.11/site-packages (0.2.31)\n",
      "Requirement already satisfied: pandas>=1.3.0 in /Users/krzysztofkaminski/anaconda3/lib/python3.11/site-packages (from yfinance) (1.5.3)\n",
      "Requirement already satisfied: numpy>=1.16.5 in /Users/krzysztofkaminski/anaconda3/lib/python3.11/site-packages (from yfinance) (1.24.3)\n",
      "Requirement already satisfied: requests>=2.31 in /Users/krzysztofkaminski/anaconda3/lib/python3.11/site-packages (from yfinance) (2.31.0)\n",
      "Requirement already satisfied: multitasking>=0.0.7 in /Users/krzysztofkaminski/anaconda3/lib/python3.11/site-packages (from yfinance) (0.0.11)\n",
      "Requirement already satisfied: lxml>=4.9.1 in /Users/krzysztofkaminski/anaconda3/lib/python3.11/site-packages (from yfinance) (4.9.2)\n",
      "Requirement already satisfied: appdirs>=1.4.4 in /Users/krzysztofkaminski/anaconda3/lib/python3.11/site-packages (from yfinance) (1.4.4)\n",
      "Requirement already satisfied: pytz>=2022.5 in /Users/krzysztofkaminski/anaconda3/lib/python3.11/site-packages (from yfinance) (2022.7)\n",
      "Requirement already satisfied: frozendict>=2.3.4 in /Users/krzysztofkaminski/anaconda3/lib/python3.11/site-packages (from yfinance) (2.3.8)\n",
      "Requirement already satisfied: peewee>=3.16.2 in /Users/krzysztofkaminski/anaconda3/lib/python3.11/site-packages (from yfinance) (3.17.0)\n",
      "Requirement already satisfied: beautifulsoup4>=4.11.1 in /Users/krzysztofkaminski/anaconda3/lib/python3.11/site-packages (from yfinance) (4.12.2)\n",
      "Requirement already satisfied: html5lib>=1.1 in /Users/krzysztofkaminski/anaconda3/lib/python3.11/site-packages (from yfinance) (1.1)\n",
      "Requirement already satisfied: soupsieve>1.2 in /Users/krzysztofkaminski/anaconda3/lib/python3.11/site-packages (from beautifulsoup4>=4.11.1->yfinance) (2.4)\n",
      "Requirement already satisfied: six>=1.9 in /Users/krzysztofkaminski/anaconda3/lib/python3.11/site-packages (from html5lib>=1.1->yfinance) (1.16.0)\n",
      "Requirement already satisfied: webencodings in /Users/krzysztofkaminski/anaconda3/lib/python3.11/site-packages (from html5lib>=1.1->yfinance) (0.5.1)\n",
      "Requirement already satisfied: python-dateutil>=2.8.1 in /Users/krzysztofkaminski/anaconda3/lib/python3.11/site-packages (from pandas>=1.3.0->yfinance) (2.8.2)\n",
      "Requirement already satisfied: charset-normalizer<4,>=2 in /Users/krzysztofkaminski/anaconda3/lib/python3.11/site-packages (from requests>=2.31->yfinance) (2.0.4)\n",
      "Requirement already satisfied: idna<4,>=2.5 in /Users/krzysztofkaminski/anaconda3/lib/python3.11/site-packages (from requests>=2.31->yfinance) (3.4)\n",
      "Requirement already satisfied: urllib3<3,>=1.21.1 in /Users/krzysztofkaminski/anaconda3/lib/python3.11/site-packages (from requests>=2.31->yfinance) (1.26.16)\n",
      "Requirement already satisfied: certifi>=2017.4.17 in /Users/krzysztofkaminski/anaconda3/lib/python3.11/site-packages (from requests>=2.31->yfinance) (2023.7.22)\n",
      "Requirement already satisfied: ta in /Users/krzysztofkaminski/anaconda3/lib/python3.11/site-packages (0.10.2)\n",
      "Requirement already satisfied: numpy in /Users/krzysztofkaminski/anaconda3/lib/python3.11/site-packages (from ta) (1.24.3)\n",
      "Requirement already satisfied: pandas in /Users/krzysztofkaminski/anaconda3/lib/python3.11/site-packages (from ta) (1.5.3)\n",
      "Requirement already satisfied: python-dateutil>=2.8.1 in /Users/krzysztofkaminski/anaconda3/lib/python3.11/site-packages (from pandas->ta) (2.8.2)\n",
      "Requirement already satisfied: pytz>=2020.1 in /Users/krzysztofkaminski/anaconda3/lib/python3.11/site-packages (from pandas->ta) (2022.7)\n",
      "Requirement already satisfied: six>=1.5 in /Users/krzysztofkaminski/anaconda3/lib/python3.11/site-packages (from python-dateutil>=2.8.1->pandas->ta) (1.16.0)\n"
     ]
    }
   ],
   "source": [
    "!pip install yfinance\n",
    "!pip install ta"
   ]
  },
  {
   "cell_type": "markdown",
   "id": "24ac3e79",
   "metadata": {
    "id": "24ac3e79"
   },
   "source": [
    "## Imports"
   ]
  },
  {
   "cell_type": "code",
   "execution_count": 2,
   "id": "6385c6cb",
   "metadata": {
    "id": "6385c6cb"
   },
   "outputs": [],
   "source": [
    "# Remove unwanted warnings\n",
    "import warnings\n",
    "warnings.simplefilter(action='ignore', category=FutureWarning)\n",
    "warnings.simplefilter(action='ignore', category=RuntimeWarning)\n",
    "#import libriaries\n",
    "import yfinance as yf\n",
    "import numpy as np\n",
    "import pandas as pd\n",
    "#scaler, train_test_split\n",
    "from sklearn.preprocessing import MinMaxScaler, StandardScaler\n",
    "from sklearn.model_selection import train_test_split, GridSearchCV\n",
    "# machine learning models\n",
    "from sklearn.ensemble import RandomForestClassifier\n",
    "from xgboost import XGBClassifier\n",
    "#technical analysis\n",
    "from ta import add_all_ta_features\n",
    "#pipeline\n",
    "from sklearn.pipeline import Pipeline\n",
    "#PCA\n",
    "from sklearn.decomposition import PCA\n",
    "# Statistics\n",
    "from statsmodels.tsa.stattools import adfuller\n",
    "# models validation\n",
    "from sklearn.metrics import accuracy_score, precision_score, recall_score, f1_score, confusion_matrix\n",
    "#visualization\n",
    "import matplotlib.pyplot as plt"
   ]
  },
  {
   "cell_type": "markdown",
   "id": "ba439986",
   "metadata": {
    "id": "ba439986"
   },
   "source": [
    "## Download data from yahoo finance (yf)"
   ]
  },
  {
   "cell_type": "code",
   "execution_count": 3,
   "id": "5d3be9f0",
   "metadata": {
    "colab": {
     "base_uri": "https://localhost:8080/",
     "height": 455
    },
    "id": "5d3be9f0",
    "outputId": "ef2f2271-1d37-4fc4-9369-058b29f56c45",
    "scrolled": true
   },
   "outputs": [
    {
     "data": {
      "text/html": [
       "<div>\n",
       "<style scoped>\n",
       "    .dataframe tbody tr th:only-of-type {\n",
       "        vertical-align: middle;\n",
       "    }\n",
       "\n",
       "    .dataframe tbody tr th {\n",
       "        vertical-align: top;\n",
       "    }\n",
       "\n",
       "    .dataframe thead th {\n",
       "        text-align: right;\n",
       "    }\n",
       "</style>\n",
       "<table border=\"1\" class=\"dataframe\">\n",
       "  <thead>\n",
       "    <tr style=\"text-align: right;\">\n",
       "      <th></th>\n",
       "      <th>Open</th>\n",
       "      <th>High</th>\n",
       "      <th>Low</th>\n",
       "      <th>Close</th>\n",
       "      <th>Volume</th>\n",
       "    </tr>\n",
       "    <tr>\n",
       "      <th>Date</th>\n",
       "      <th></th>\n",
       "      <th></th>\n",
       "      <th></th>\n",
       "      <th></th>\n",
       "      <th></th>\n",
       "    </tr>\n",
       "  </thead>\n",
       "  <tbody>\n",
       "    <tr>\n",
       "      <th>2010-10-25 00:00:00-04:00</th>\n",
       "      <td>1180.75</td>\n",
       "      <td>1193.00</td>\n",
       "      <td>1180.50</td>\n",
       "      <td>1182.75</td>\n",
       "      <td>1752840</td>\n",
       "    </tr>\n",
       "    <tr>\n",
       "      <th>2010-10-26 00:00:00-04:00</th>\n",
       "      <td>1182.00</td>\n",
       "      <td>1184.25</td>\n",
       "      <td>1174.00</td>\n",
       "      <td>1182.75</td>\n",
       "      <td>1743843</td>\n",
       "    </tr>\n",
       "    <tr>\n",
       "      <th>2010-10-27 00:00:00-04:00</th>\n",
       "      <td>1183.25</td>\n",
       "      <td>1186.25</td>\n",
       "      <td>1167.75</td>\n",
       "      <td>1178.75</td>\n",
       "      <td>2246880</td>\n",
       "    </tr>\n",
       "    <tr>\n",
       "      <th>2010-10-28 00:00:00-04:00</th>\n",
       "      <td>1178.50</td>\n",
       "      <td>1187.50</td>\n",
       "      <td>1173.50</td>\n",
       "      <td>1179.25</td>\n",
       "      <td>2014979</td>\n",
       "    </tr>\n",
       "    <tr>\n",
       "      <th>2010-10-29 00:00:00-04:00</th>\n",
       "      <td>1179.25</td>\n",
       "      <td>1182.50</td>\n",
       "      <td>1172.00</td>\n",
       "      <td>1179.75</td>\n",
       "      <td>1751544</td>\n",
       "    </tr>\n",
       "    <tr>\n",
       "      <th>...</th>\n",
       "      <td>...</td>\n",
       "      <td>...</td>\n",
       "      <td>...</td>\n",
       "      <td>...</td>\n",
       "      <td>...</td>\n",
       "    </tr>\n",
       "    <tr>\n",
       "      <th>2023-10-17 00:00:00-04:00</th>\n",
       "      <td>4406.25</td>\n",
       "      <td>4423.25</td>\n",
       "      <td>4365.75</td>\n",
       "      <td>4401.75</td>\n",
       "      <td>1879736</td>\n",
       "    </tr>\n",
       "    <tr>\n",
       "      <th>2023-10-18 00:00:00-04:00</th>\n",
       "      <td>4398.00</td>\n",
       "      <td>4399.25</td>\n",
       "      <td>4330.75</td>\n",
       "      <td>4342.25</td>\n",
       "      <td>2271572</td>\n",
       "    </tr>\n",
       "    <tr>\n",
       "      <th>2023-10-19 00:00:00-04:00</th>\n",
       "      <td>4346.50</td>\n",
       "      <td>4366.50</td>\n",
       "      <td>4292.75</td>\n",
       "      <td>4303.00</td>\n",
       "      <td>2741942</td>\n",
       "    </tr>\n",
       "    <tr>\n",
       "      <th>2023-10-20 00:00:00-04:00</th>\n",
       "      <td>4295.00</td>\n",
       "      <td>4304.25</td>\n",
       "      <td>4243.50</td>\n",
       "      <td>4248.50</td>\n",
       "      <td>2741942</td>\n",
       "    </tr>\n",
       "    <tr>\n",
       "      <th>2023-10-23 00:00:00-04:00</th>\n",
       "      <td>4256.25</td>\n",
       "      <td>4261.50</td>\n",
       "      <td>4215.25</td>\n",
       "      <td>4226.50</td>\n",
       "      <td>222167</td>\n",
       "    </tr>\n",
       "  </tbody>\n",
       "</table>\n",
       "<p>3269 rows × 5 columns</p>\n",
       "</div>"
      ],
      "text/plain": [
       "                              Open     High      Low    Close   Volume\n",
       "Date                                                                  \n",
       "2010-10-25 00:00:00-04:00  1180.75  1193.00  1180.50  1182.75  1752840\n",
       "2010-10-26 00:00:00-04:00  1182.00  1184.25  1174.00  1182.75  1743843\n",
       "2010-10-27 00:00:00-04:00  1183.25  1186.25  1167.75  1178.75  2246880\n",
       "2010-10-28 00:00:00-04:00  1178.50  1187.50  1173.50  1179.25  2014979\n",
       "2010-10-29 00:00:00-04:00  1179.25  1182.50  1172.00  1179.75  1751544\n",
       "...                            ...      ...      ...      ...      ...\n",
       "2023-10-17 00:00:00-04:00  4406.25  4423.25  4365.75  4401.75  1879736\n",
       "2023-10-18 00:00:00-04:00  4398.00  4399.25  4330.75  4342.25  2271572\n",
       "2023-10-19 00:00:00-04:00  4346.50  4366.50  4292.75  4303.00  2741942\n",
       "2023-10-20 00:00:00-04:00  4295.00  4304.25  4243.50  4248.50  2741942\n",
       "2023-10-23 00:00:00-04:00  4256.25  4261.50  4215.25  4226.50   222167\n",
       "\n",
       "[3269 rows x 5 columns]"
      ]
     },
     "execution_count": 3,
     "metadata": {},
     "output_type": "execute_result"
    }
   ],
   "source": [
    "sp = yf.Ticker(\"ES=F\")\n",
    "hist = sp.history(period='13y')\n",
    "df=hist.drop(columns={'Dividends','Stock Splits'})\n",
    "df=df.dropna()\n",
    "df"
   ]
  },
  {
   "cell_type": "markdown",
   "id": "e07e9f76",
   "metadata": {
    "id": "e07e9f76"
   },
   "source": [
    "Look at chart of Close price because based on it we will create return values"
   ]
  },
  {
   "cell_type": "code",
   "execution_count": 4,
   "id": "1641a48a",
   "metadata": {
    "colab": {
     "base_uri": "https://localhost:8080/",
     "height": 472
    },
    "id": "1641a48a",
    "outputId": "43f063f6-ed5a-4b28-c320-a4be38e589ca"
   },
   "outputs": [
    {
     "data": {
      "image/png": "[encoded data removed]",
      "text/plain": [
       "<Figure size 640x480 with 1 Axes>"
      ]
     },
     "metadata": {},
     "output_type": "display_data"
    }
   ],
   "source": [
    "plt.plot(df.index,df['Close'])\n",
    "plt.title('Daily close of SP500 future')\n",
    "plt.xlabel('Date')\n",
    "plt.ylabel('Price')\n",
    "plt.show()"
   ]
  },
  {
   "cell_type": "markdown",
   "id": "ae1a9912",
   "metadata": {
    "id": "ae1a9912"
   },
   "source": [
    "Doesn't look like a stationary data. But look also at the histogram of these values."
   ]
  },
  {
   "cell_type": "code",
   "execution_count": 5,
   "id": "0b1e57c6",
   "metadata": {
    "colab": {
     "base_uri": "https://localhost:8080/",
     "height": 472
    },
    "id": "0b1e57c6",
    "outputId": "1d674256-5995-42c4-e430-af5a93c0be72",
    "scrolled": false
   },
   "outputs": [
    {
     "data": {
      "image/png": "[encoded data removed]",
      "text/plain": [
       "<Figure size 640x480 with 1 Axes>"
      ]
     },
     "metadata": {},
     "output_type": "display_data"
    }
   ],
   "source": [
    "df['Close'].hist(bins=100, grid=False, color='blue', alpha=0.7)\n",
    "plt.title('Histogram of SP500 close prices')\n",
    "plt.xlabel('Value')\n",
    "plt.ylabel('Frequency')\n",
    "plt.show()"
   ]
  },
  {
   "cell_type": "markdown",
   "id": "ef475a7a",
   "metadata": {
    "id": "ef475a7a"
   },
   "source": [
    "Closing prices of S&P500 futures are definitely non-stationary data."
   ]
  },
  {
   "cell_type": "markdown",
   "id": "69068f34",
   "metadata": {
    "id": "69068f34"
   },
   "source": [
    "## Technical analysis"
   ]
  },
  {
   "cell_type": "markdown",
   "id": "2e8dc0a2",
   "metadata": {
    "id": "2e8dc0a2"
   },
   "source": [
    "Technical analysis is a method people use to evaluate investments and identify trading opportunities by analyzing statistical trends gathered from trading activity, such as price movement and volume. Instead of looking at the company's details like its financial health or products, they look at charts of price movement and various analytical tools to evaluate a security's strength or weakness. It can be used also for indicies or currencies trading. One of the rules of technical analysis says that the price already contains everything (the hopes and fears of investors). So, theoretically, using technical analysis alone, it should be possible to predict the price."
   ]
  },
  {
   "cell_type": "code",
   "execution_count": 6,
   "id": "16d508d5",
   "metadata": {
    "colab": {
     "base_uri": "https://localhost:8080/",
     "height": 591
    },
    "id": "16d508d5",
    "outputId": "9c0f1a80-5f29-48e8-fc08-f62b706b0d74",
    "scrolled": false
   },
   "outputs": [
    {
     "data": {
      "text/html": [
       "<div>\n",
       "<style scoped>\n",
       "    .dataframe tbody tr th:only-of-type {\n",
       "        vertical-align: middle;\n",
       "    }\n",
       "\n",
       "    .dataframe tbody tr th {\n",
       "        vertical-align: top;\n",
       "    }\n",
       "\n",
       "    .dataframe thead th {\n",
       "        text-align: right;\n",
       "    }\n",
       "</style>\n",
       "<table border=\"1\" class=\"dataframe\">\n",
       "  <thead>\n",
       "    <tr style=\"text-align: right;\">\n",
       "      <th></th>\n",
       "      <th>Open</th>\n",
       "      <th>High</th>\n",
       "      <th>Low</th>\n",
       "      <th>Close</th>\n",
       "      <th>Volume</th>\n",
       "      <th>volume_adi</th>\n",
       "      <th>volume_obv</th>\n",
       "      <th>volume_cmf</th>\n",
       "      <th>volume_fi</th>\n",
       "      <th>volume_em</th>\n",
       "      <th>...</th>\n",
       "      <th>momentum_ppo</th>\n",
       "      <th>momentum_ppo_signal</th>\n",
       "      <th>momentum_ppo_hist</th>\n",
       "      <th>momentum_pvo</th>\n",
       "      <th>momentum_pvo_signal</th>\n",
       "      <th>momentum_pvo_hist</th>\n",
       "      <th>momentum_kama</th>\n",
       "      <th>others_dr</th>\n",
       "      <th>others_dlr</th>\n",
       "      <th>others_cr</th>\n",
       "    </tr>\n",
       "    <tr>\n",
       "      <th>Date</th>\n",
       "      <th></th>\n",
       "      <th></th>\n",
       "      <th></th>\n",
       "      <th></th>\n",
       "      <th></th>\n",
       "      <th></th>\n",
       "      <th></th>\n",
       "      <th></th>\n",
       "      <th></th>\n",
       "      <th></th>\n",
       "      <th></th>\n",
       "      <th></th>\n",
       "      <th></th>\n",
       "      <th></th>\n",
       "      <th></th>\n",
       "      <th></th>\n",
       "      <th></th>\n",
       "      <th></th>\n",
       "      <th></th>\n",
       "      <th></th>\n",
       "      <th></th>\n",
       "    </tr>\n",
       "  </thead>\n",
       "  <tbody>\n",
       "    <tr>\n",
       "      <th>2010-10-25 00:00:00-04:00</th>\n",
       "      <td>1180.75</td>\n",
       "      <td>1193.00</td>\n",
       "      <td>1180.50</td>\n",
       "      <td>1182.75</td>\n",
       "      <td>1752840</td>\n",
       "      <td>-1.121818e+06</td>\n",
       "      <td>1752840</td>\n",
       "      <td>-0.640000</td>\n",
       "      <td>0.000000e+00</td>\n",
       "      <td>0.000000</td>\n",
       "      <td>...</td>\n",
       "      <td>0.000000</td>\n",
       "      <td>0.000000</td>\n",
       "      <td>0.000000</td>\n",
       "      <td>0.000000</td>\n",
       "      <td>0.000000</td>\n",
       "      <td>0.000000</td>\n",
       "      <td>1182.750000</td>\n",
       "      <td>-54.400444</td>\n",
       "      <td>0.000000</td>\n",
       "      <td>0.000000</td>\n",
       "    </tr>\n",
       "    <tr>\n",
       "      <th>2010-10-26 00:00:00-04:00</th>\n",
       "      <td>1182.00</td>\n",
       "      <td>1184.25</td>\n",
       "      <td>1174.00</td>\n",
       "      <td>1182.75</td>\n",
       "      <td>1743843</td>\n",
       "      <td>1.116323e+05</td>\n",
       "      <td>3496683</td>\n",
       "      <td>0.031925</td>\n",
       "      <td>0.000000e+00</td>\n",
       "      <td>-4481.839822</td>\n",
       "      <td>...</td>\n",
       "      <td>0.000000</td>\n",
       "      <td>0.000000</td>\n",
       "      <td>0.000000</td>\n",
       "      <td>-0.040961</td>\n",
       "      <td>-0.008192</td>\n",
       "      <td>-0.032769</td>\n",
       "      <td>1182.750000</td>\n",
       "      <td>0.000000</td>\n",
       "      <td>0.000000</td>\n",
       "      <td>0.000000</td>\n",
       "    </tr>\n",
       "    <tr>\n",
       "      <th>2010-10-27 00:00:00-04:00</th>\n",
       "      <td>1183.25</td>\n",
       "      <td>1186.25</td>\n",
       "      <td>1167.75</td>\n",
       "      <td>1178.75</td>\n",
       "      <td>2246880</td>\n",
       "      <td>5.367177e+05</td>\n",
       "      <td>1249803</td>\n",
       "      <td>0.093447</td>\n",
       "      <td>-1.283931e+06</td>\n",
       "      <td>-1749.648401</td>\n",
       "      <td>...</td>\n",
       "      <td>-0.026985</td>\n",
       "      <td>-0.005397</td>\n",
       "      <td>-0.021588</td>\n",
       "      <td>2.172186</td>\n",
       "      <td>0.427883</td>\n",
       "      <td>1.744303</td>\n",
       "      <td>1180.806247</td>\n",
       "      <td>-0.338195</td>\n",
       "      <td>-0.338768</td>\n",
       "      <td>-0.338195</td>\n",
       "    </tr>\n",
       "    <tr>\n",
       "      <th>2010-10-28 00:00:00-04:00</th>\n",
       "      <td>1178.50</td>\n",
       "      <td>1187.50</td>\n",
       "      <td>1173.50</td>\n",
       "      <td>1179.25</td>\n",
       "      <td>2014979</td>\n",
       "      <td>1.769001e+05</td>\n",
       "      <td>3264782</td>\n",
       "      <td>0.022801</td>\n",
       "      <td>-9.565856e+05</td>\n",
       "      <td>2431.787130</td>\n",
       "      <td>...</td>\n",
       "      <td>-0.044456</td>\n",
       "      <td>-0.013209</td>\n",
       "      <td>-0.031247</td>\n",
       "      <td>2.820152</td>\n",
       "      <td>0.906337</td>\n",
       "      <td>1.913815</td>\n",
       "      <td>1180.060375</td>\n",
       "      <td>0.042418</td>\n",
       "      <td>0.042409</td>\n",
       "      <td>-0.295921</td>\n",
       "    </tr>\n",
       "    <tr>\n",
       "      <th>2010-10-29 00:00:00-04:00</th>\n",
       "      <td>1179.25</td>\n",
       "      <td>1182.50</td>\n",
       "      <td>1172.00</td>\n",
       "      <td>1179.75</td>\n",
       "      <td>1751544</td>\n",
       "      <td>1.010969e+06</td>\n",
       "      <td>5016326</td>\n",
       "      <td>0.106305</td>\n",
       "      <td>-6.948202e+05</td>\n",
       "      <td>-1948.281059</td>\n",
       "      <td>...</td>\n",
       "      <td>-0.054267</td>\n",
       "      <td>-0.021420</td>\n",
       "      <td>-0.032847</td>\n",
       "      <td>2.152355</td>\n",
       "      <td>1.155541</td>\n",
       "      <td>0.996815</td>\n",
       "      <td>1179.907971</td>\n",
       "      <td>0.042400</td>\n",
       "      <td>0.042391</td>\n",
       "      <td>-0.253646</td>\n",
       "    </tr>\n",
       "  </tbody>\n",
       "</table>\n",
       "<p>5 rows × 91 columns</p>\n",
       "</div>"
      ],
      "text/plain": [
       "                              Open     High      Low    Close   Volume  \\\n",
       "Date                                                                     \n",
       "2010-10-25 00:00:00-04:00  1180.75  1193.00  1180.50  1182.75  1752840   \n",
       "2010-10-26 00:00:00-04:00  1182.00  1184.25  1174.00  1182.75  1743843   \n",
       "2010-10-27 00:00:00-04:00  1183.25  1186.25  1167.75  1178.75  2246880   \n",
       "2010-10-28 00:00:00-04:00  1178.50  1187.50  1173.50  1179.25  2014979   \n",
       "2010-10-29 00:00:00-04:00  1179.25  1182.50  1172.00  1179.75  1751544   \n",
       "\n",
       "                             volume_adi  volume_obv  volume_cmf     volume_fi  \\\n",
       "Date                                                                            \n",
       "2010-10-25 00:00:00-04:00 -1.121818e+06     1752840   -0.640000  0.000000e+00   \n",
       "2010-10-26 00:00:00-04:00  1.116323e+05     3496683    0.031925  0.000000e+00   \n",
       "2010-10-27 00:00:00-04:00  5.367177e+05     1249803    0.093447 -1.283931e+06   \n",
       "2010-10-28 00:00:00-04:00  1.769001e+05     3264782    0.022801 -9.565856e+05   \n",
       "2010-10-29 00:00:00-04:00  1.010969e+06     5016326    0.106305 -6.948202e+05   \n",
       "\n",
       "                             volume_em  ...  momentum_ppo  \\\n",
       "Date                                    ...                 \n",
       "2010-10-25 00:00:00-04:00     0.000000  ...      0.000000   \n",
       "2010-10-26 00:00:00-04:00 -4481.839822  ...      0.000000   \n",
       "2010-10-27 00:00:00-04:00 -1749.648401  ...     -0.026985   \n",
       "2010-10-28 00:00:00-04:00  2431.787130  ...     -0.044456   \n",
       "2010-10-29 00:00:00-04:00 -1948.281059  ...     -0.054267   \n",
       "\n",
       "                           momentum_ppo_signal  momentum_ppo_hist  \\\n",
       "Date                                                                \n",
       "2010-10-25 00:00:00-04:00             0.000000           0.000000   \n",
       "2010-10-26 00:00:00-04:00             0.000000           0.000000   \n",
       "2010-10-27 00:00:00-04:00            -0.005397          -0.021588   \n",
       "2010-10-28 00:00:00-04:00            -0.013209          -0.031247   \n",
       "2010-10-29 00:00:00-04:00            -0.021420          -0.032847   \n",
       "\n",
       "                           momentum_pvo  momentum_pvo_signal  \\\n",
       "Date                                                           \n",
       "2010-10-25 00:00:00-04:00      0.000000             0.000000   \n",
       "2010-10-26 00:00:00-04:00     -0.040961            -0.008192   \n",
       "2010-10-27 00:00:00-04:00      2.172186             0.427883   \n",
       "2010-10-28 00:00:00-04:00      2.820152             0.906337   \n",
       "2010-10-29 00:00:00-04:00      2.152355             1.155541   \n",
       "\n",
       "                           momentum_pvo_hist  momentum_kama  others_dr  \\\n",
       "Date                                                                     \n",
       "2010-10-25 00:00:00-04:00           0.000000    1182.750000 -54.400444   \n",
       "2010-10-26 00:00:00-04:00          -0.032769    1182.750000   0.000000   \n",
       "2010-10-27 00:00:00-04:00           1.744303    1180.806247  -0.338195   \n",
       "2010-10-28 00:00:00-04:00           1.913815    1180.060375   0.042418   \n",
       "2010-10-29 00:00:00-04:00           0.996815    1179.907971   0.042400   \n",
       "\n",
       "                           others_dlr  others_cr  \n",
       "Date                                              \n",
       "2010-10-25 00:00:00-04:00    0.000000   0.000000  \n",
       "2010-10-26 00:00:00-04:00    0.000000   0.000000  \n",
       "2010-10-27 00:00:00-04:00   -0.338768  -0.338195  \n",
       "2010-10-28 00:00:00-04:00    0.042409  -0.295921  \n",
       "2010-10-29 00:00:00-04:00    0.042391  -0.253646  \n",
       "\n",
       "[5 rows x 91 columns]"
      ]
     },
     "execution_count": 6,
     "metadata": {},
     "output_type": "execute_result"
    }
   ],
   "source": [
    "#adding all technical features from ta library\n",
    "df_ = add_all_ta_features(df, open=\"Open\", high=\"High\", low=\"Low\", close=\"Close\", volume=\"Volume\", fillna=True)\n",
    "# looking at new df\n",
    "df_.head()"
   ]
  },
  {
   "cell_type": "markdown",
   "id": "96a9a346",
   "metadata": {
    "id": "96a9a346"
   },
   "source": [
    "## Features engineering"
   ]
  },
  {
   "cell_type": "markdown",
   "id": "cbce9871",
   "metadata": {
    "id": "cbce9871"
   },
   "source": [
    "Some of the columns may be also considered as a non-stationary data. So let's find out how many are them using adfuller."
   ]
  },
  {
   "cell_type": "code",
   "execution_count": 7,
   "id": "b70fb455",
   "metadata": {
    "colab": {
     "base_uri": "https://localhost:8080/"
    },
    "id": "b70fb455",
    "outputId": "fda59f92-689a-4db1-d64f-df72e8c0ec5e"
   },
   "outputs": [
    {
     "name": "stdout",
     "output_type": "stream",
     "text": [
      "Non-Stationary Features Found: 31\n"
     ]
    }
   ],
   "source": [
    "# Identify non-stationary columns\n",
    "non_stationaries = []\n",
    "for col in df_.columns:\n",
    "    dftest = adfuller(df_[col].values)\n",
    "    p_value = dftest[1]\n",
    "    t_test = dftest[0] < dftest[4][\"1%\"]\n",
    "    if p_value > 0.05 or not t_test:\n",
    "        non_stationaries.append(col)\n",
    "print(f\"Non-Stationary Features Found: {len(non_stationaries)}\")"
   ]
  },
  {
   "cell_type": "markdown",
   "id": "894862ab",
   "metadata": {
    "id": "894862ab"
   },
   "source": [
    "There is 91 features and 31 of them are non-stationary. Let's change them to stationary with .pct_change() method."
   ]
  },
  {
   "cell_type": "code",
   "execution_count": 8,
   "id": "e16ae624",
   "metadata": {
    "colab": {
     "base_uri": "https://localhost:8080/",
     "height": 591
    },
    "id": "e16ae624",
    "outputId": "a61fe12a-beea-4563-8744-c4f98df49cad",
    "scrolled": false
   },
   "outputs": [
    {
     "data": {
      "text/html": [
       "<div>\n",
       "<style scoped>\n",
       "    .dataframe tbody tr th:only-of-type {\n",
       "        vertical-align: middle;\n",
       "    }\n",
       "\n",
       "    .dataframe tbody tr th {\n",
       "        vertical-align: top;\n",
       "    }\n",
       "\n",
       "    .dataframe thead th {\n",
       "        text-align: right;\n",
       "    }\n",
       "</style>\n",
       "<table border=\"1\" class=\"dataframe\">\n",
       "  <thead>\n",
       "    <tr style=\"text-align: right;\">\n",
       "      <th></th>\n",
       "      <th>Open</th>\n",
       "      <th>High</th>\n",
       "      <th>Low</th>\n",
       "      <th>Close</th>\n",
       "      <th>Volume</th>\n",
       "      <th>volume_adi</th>\n",
       "      <th>volume_obv</th>\n",
       "      <th>volume_cmf</th>\n",
       "      <th>volume_fi</th>\n",
       "      <th>volume_em</th>\n",
       "      <th>...</th>\n",
       "      <th>momentum_ppo</th>\n",
       "      <th>momentum_ppo_signal</th>\n",
       "      <th>momentum_ppo_hist</th>\n",
       "      <th>momentum_pvo</th>\n",
       "      <th>momentum_pvo_signal</th>\n",
       "      <th>momentum_pvo_hist</th>\n",
       "      <th>momentum_kama</th>\n",
       "      <th>others_dr</th>\n",
       "      <th>others_dlr</th>\n",
       "      <th>others_cr</th>\n",
       "    </tr>\n",
       "    <tr>\n",
       "      <th>Date</th>\n",
       "      <th></th>\n",
       "      <th></th>\n",
       "      <th></th>\n",
       "      <th></th>\n",
       "      <th></th>\n",
       "      <th></th>\n",
       "      <th></th>\n",
       "      <th></th>\n",
       "      <th></th>\n",
       "      <th></th>\n",
       "      <th></th>\n",
       "      <th></th>\n",
       "      <th></th>\n",
       "      <th></th>\n",
       "      <th></th>\n",
       "      <th></th>\n",
       "      <th></th>\n",
       "      <th></th>\n",
       "      <th></th>\n",
       "      <th></th>\n",
       "      <th></th>\n",
       "    </tr>\n",
       "  </thead>\n",
       "  <tbody>\n",
       "    <tr>\n",
       "      <th>2010-10-26 00:00:00-04:00</th>\n",
       "      <td>0.001059</td>\n",
       "      <td>-0.007334</td>\n",
       "      <td>-0.005506</td>\n",
       "      <td>0.000000</td>\n",
       "      <td>1743843</td>\n",
       "      <td>-1.099510</td>\n",
       "      <td>0.994867</td>\n",
       "      <td>0.031925</td>\n",
       "      <td>0.000000e+00</td>\n",
       "      <td>-4481.839822</td>\n",
       "      <td>...</td>\n",
       "      <td>0.000000</td>\n",
       "      <td>0.000000</td>\n",
       "      <td>0.000000</td>\n",
       "      <td>-0.040961</td>\n",
       "      <td>-0.008192</td>\n",
       "      <td>-0.032769</td>\n",
       "      <td>0.000000</td>\n",
       "      <td>0.000000</td>\n",
       "      <td>0.000000</td>\n",
       "      <td>NaN</td>\n",
       "    </tr>\n",
       "    <tr>\n",
       "      <th>2010-10-27 00:00:00-04:00</th>\n",
       "      <td>0.001058</td>\n",
       "      <td>0.001689</td>\n",
       "      <td>-0.005324</td>\n",
       "      <td>-0.003382</td>\n",
       "      <td>2246880</td>\n",
       "      <td>3.807906</td>\n",
       "      <td>-0.642575</td>\n",
       "      <td>0.093447</td>\n",
       "      <td>-1.283931e+06</td>\n",
       "      <td>-1749.648401</td>\n",
       "      <td>...</td>\n",
       "      <td>-0.026985</td>\n",
       "      <td>-0.005397</td>\n",
       "      <td>-0.021588</td>\n",
       "      <td>2.172186</td>\n",
       "      <td>0.427883</td>\n",
       "      <td>1.744303</td>\n",
       "      <td>-0.001643</td>\n",
       "      <td>-0.338195</td>\n",
       "      <td>-0.338768</td>\n",
       "      <td>-inf</td>\n",
       "    </tr>\n",
       "    <tr>\n",
       "      <th>2010-10-28 00:00:00-04:00</th>\n",
       "      <td>-0.004014</td>\n",
       "      <td>0.001054</td>\n",
       "      <td>0.004924</td>\n",
       "      <td>0.000424</td>\n",
       "      <td>2014979</td>\n",
       "      <td>-0.670404</td>\n",
       "      <td>1.612237</td>\n",
       "      <td>0.022801</td>\n",
       "      <td>-9.565856e+05</td>\n",
       "      <td>2431.787130</td>\n",
       "      <td>...</td>\n",
       "      <td>-0.044456</td>\n",
       "      <td>-0.013209</td>\n",
       "      <td>-0.031247</td>\n",
       "      <td>2.820152</td>\n",
       "      <td>0.906337</td>\n",
       "      <td>1.913815</td>\n",
       "      <td>-0.000632</td>\n",
       "      <td>0.042418</td>\n",
       "      <td>0.042409</td>\n",
       "      <td>-0.125000</td>\n",
       "    </tr>\n",
       "    <tr>\n",
       "      <th>2010-10-29 00:00:00-04:00</th>\n",
       "      <td>0.000636</td>\n",
       "      <td>-0.004211</td>\n",
       "      <td>-0.001278</td>\n",
       "      <td>0.000424</td>\n",
       "      <td>1751544</td>\n",
       "      <td>4.714914</td>\n",
       "      <td>0.536496</td>\n",
       "      <td>0.106305</td>\n",
       "      <td>-6.948202e+05</td>\n",
       "      <td>-1948.281059</td>\n",
       "      <td>...</td>\n",
       "      <td>-0.054267</td>\n",
       "      <td>-0.021420</td>\n",
       "      <td>-0.032847</td>\n",
       "      <td>2.152355</td>\n",
       "      <td>1.155541</td>\n",
       "      <td>0.996815</td>\n",
       "      <td>-0.000129</td>\n",
       "      <td>0.042400</td>\n",
       "      <td>0.042391</td>\n",
       "      <td>-0.142857</td>\n",
       "    </tr>\n",
       "    <tr>\n",
       "      <th>2010-11-01 00:00:00-04:00</th>\n",
       "      <td>0.001060</td>\n",
       "      <td>0.008668</td>\n",
       "      <td>0.001493</td>\n",
       "      <td>0.002755</td>\n",
       "      <td>2032082</td>\n",
       "      <td>-0.052896</td>\n",
       "      <td>0.405094</td>\n",
       "      <td>0.082956</td>\n",
       "      <td>3.479065e+05</td>\n",
       "      <td>5610.009832</td>\n",
       "      <td>...</td>\n",
       "      <td>-0.039395</td>\n",
       "      <td>-0.025015</td>\n",
       "      <td>-0.014379</td>\n",
       "      <td>2.815235</td>\n",
       "      <td>1.487480</td>\n",
       "      <td>1.327755</td>\n",
       "      <td>0.001282</td>\n",
       "      <td>0.275482</td>\n",
       "      <td>0.275103</td>\n",
       "      <td>-1.083333</td>\n",
       "    </tr>\n",
       "  </tbody>\n",
       "</table>\n",
       "<p>5 rows × 91 columns</p>\n",
       "</div>"
      ],
      "text/plain": [
       "                               Open      High       Low     Close   Volume  \\\n",
       "Date                                                                         \n",
       "2010-10-26 00:00:00-04:00  0.001059 -0.007334 -0.005506  0.000000  1743843   \n",
       "2010-10-27 00:00:00-04:00  0.001058  0.001689 -0.005324 -0.003382  2246880   \n",
       "2010-10-28 00:00:00-04:00 -0.004014  0.001054  0.004924  0.000424  2014979   \n",
       "2010-10-29 00:00:00-04:00  0.000636 -0.004211 -0.001278  0.000424  1751544   \n",
       "2010-11-01 00:00:00-04:00  0.001060  0.008668  0.001493  0.002755  2032082   \n",
       "\n",
       "                           volume_adi  volume_obv  volume_cmf     volume_fi  \\\n",
       "Date                                                                          \n",
       "2010-10-26 00:00:00-04:00   -1.099510    0.994867    0.031925  0.000000e+00   \n",
       "2010-10-27 00:00:00-04:00    3.807906   -0.642575    0.093447 -1.283931e+06   \n",
       "2010-10-28 00:00:00-04:00   -0.670404    1.612237    0.022801 -9.565856e+05   \n",
       "2010-10-29 00:00:00-04:00    4.714914    0.536496    0.106305 -6.948202e+05   \n",
       "2010-11-01 00:00:00-04:00   -0.052896    0.405094    0.082956  3.479065e+05   \n",
       "\n",
       "                             volume_em  ...  momentum_ppo  \\\n",
       "Date                                    ...                 \n",
       "2010-10-26 00:00:00-04:00 -4481.839822  ...      0.000000   \n",
       "2010-10-27 00:00:00-04:00 -1749.648401  ...     -0.026985   \n",
       "2010-10-28 00:00:00-04:00  2431.787130  ...     -0.044456   \n",
       "2010-10-29 00:00:00-04:00 -1948.281059  ...     -0.054267   \n",
       "2010-11-01 00:00:00-04:00  5610.009832  ...     -0.039395   \n",
       "\n",
       "                           momentum_ppo_signal  momentum_ppo_hist  \\\n",
       "Date                                                                \n",
       "2010-10-26 00:00:00-04:00             0.000000           0.000000   \n",
       "2010-10-27 00:00:00-04:00            -0.005397          -0.021588   \n",
       "2010-10-28 00:00:00-04:00            -0.013209          -0.031247   \n",
       "2010-10-29 00:00:00-04:00            -0.021420          -0.032847   \n",
       "2010-11-01 00:00:00-04:00            -0.025015          -0.014379   \n",
       "\n",
       "                           momentum_pvo  momentum_pvo_signal  \\\n",
       "Date                                                           \n",
       "2010-10-26 00:00:00-04:00     -0.040961            -0.008192   \n",
       "2010-10-27 00:00:00-04:00      2.172186             0.427883   \n",
       "2010-10-28 00:00:00-04:00      2.820152             0.906337   \n",
       "2010-10-29 00:00:00-04:00      2.152355             1.155541   \n",
       "2010-11-01 00:00:00-04:00      2.815235             1.487480   \n",
       "\n",
       "                           momentum_pvo_hist  momentum_kama  others_dr  \\\n",
       "Date                                                                     \n",
       "2010-10-26 00:00:00-04:00          -0.032769       0.000000   0.000000   \n",
       "2010-10-27 00:00:00-04:00           1.744303      -0.001643  -0.338195   \n",
       "2010-10-28 00:00:00-04:00           1.913815      -0.000632   0.042418   \n",
       "2010-10-29 00:00:00-04:00           0.996815      -0.000129   0.042400   \n",
       "2010-11-01 00:00:00-04:00           1.327755       0.001282   0.275482   \n",
       "\n",
       "                           others_dlr  others_cr  \n",
       "Date                                              \n",
       "2010-10-26 00:00:00-04:00    0.000000        NaN  \n",
       "2010-10-27 00:00:00-04:00   -0.338768       -inf  \n",
       "2010-10-28 00:00:00-04:00    0.042409  -0.125000  \n",
       "2010-10-29 00:00:00-04:00    0.042391  -0.142857  \n",
       "2010-11-01 00:00:00-04:00    0.275103  -1.083333  \n",
       "\n",
       "[5 rows x 91 columns]"
      ]
     },
     "execution_count": 8,
     "metadata": {},
     "output_type": "execute_result"
    }
   ],
   "source": [
    "# Convert non-stationaries to stationary\n",
    "df_stationary = df_.copy()\n",
    "df_stationary[non_stationaries] = df_stationary[non_stationaries].pct_change()\n",
    "# Lets start from second row, becouse first one is full of NaNs\n",
    "df_stationary = df_stationary.iloc[1:]\n",
    "# take a look at our data\n",
    "df_stationary.head()"
   ]
  },
  {
   "cell_type": "markdown",
   "id": "565c8701",
   "metadata": {
    "id": "565c8701"
   },
   "source": [
    "Some of these columns may have NaN values or infinity (inf/-inf). Let's clean our data set."
   ]
  },
  {
   "cell_type": "code",
   "execution_count": 9,
   "id": "c3896af3",
   "metadata": {
    "colab": {
     "base_uri": "https://localhost:8080/",
     "height": 765
    },
    "id": "c3896af3",
    "outputId": "c40bac40-bd7a-4651-d8d9-1cd663a15fbb"
   },
   "outputs": [
    {
     "data": {
      "text/html": [
       "<div>\n",
       "<style scoped>\n",
       "    .dataframe tbody tr th:only-of-type {\n",
       "        vertical-align: middle;\n",
       "    }\n",
       "\n",
       "    .dataframe tbody tr th {\n",
       "        vertical-align: top;\n",
       "    }\n",
       "\n",
       "    .dataframe thead th {\n",
       "        text-align: right;\n",
       "    }\n",
       "</style>\n",
       "<table border=\"1\" class=\"dataframe\">\n",
       "  <thead>\n",
       "    <tr style=\"text-align: right;\">\n",
       "      <th></th>\n",
       "      <th>Open</th>\n",
       "      <th>High</th>\n",
       "      <th>Low</th>\n",
       "      <th>Close</th>\n",
       "      <th>Volume</th>\n",
       "      <th>volume_adi</th>\n",
       "      <th>volume_obv</th>\n",
       "      <th>volume_cmf</th>\n",
       "      <th>volume_fi</th>\n",
       "      <th>volume_em</th>\n",
       "      <th>...</th>\n",
       "      <th>momentum_roc</th>\n",
       "      <th>momentum_ppo</th>\n",
       "      <th>momentum_ppo_signal</th>\n",
       "      <th>momentum_ppo_hist</th>\n",
       "      <th>momentum_pvo</th>\n",
       "      <th>momentum_pvo_signal</th>\n",
       "      <th>momentum_pvo_hist</th>\n",
       "      <th>momentum_kama</th>\n",
       "      <th>others_dr</th>\n",
       "      <th>others_dlr</th>\n",
       "    </tr>\n",
       "    <tr>\n",
       "      <th>Date</th>\n",
       "      <th></th>\n",
       "      <th></th>\n",
       "      <th></th>\n",
       "      <th></th>\n",
       "      <th></th>\n",
       "      <th></th>\n",
       "      <th></th>\n",
       "      <th></th>\n",
       "      <th></th>\n",
       "      <th></th>\n",
       "      <th></th>\n",
       "      <th></th>\n",
       "      <th></th>\n",
       "      <th></th>\n",
       "      <th></th>\n",
       "      <th></th>\n",
       "      <th></th>\n",
       "      <th></th>\n",
       "      <th></th>\n",
       "      <th></th>\n",
       "      <th></th>\n",
       "    </tr>\n",
       "  </thead>\n",
       "  <tbody>\n",
       "    <tr>\n",
       "      <th>2010-10-26 00:00:00-04:00</th>\n",
       "      <td>0.001059</td>\n",
       "      <td>-0.007334</td>\n",
       "      <td>-0.005506</td>\n",
       "      <td>0.000000</td>\n",
       "      <td>1743843</td>\n",
       "      <td>-1.099510</td>\n",
       "      <td>0.994867</td>\n",
       "      <td>0.031925</td>\n",
       "      <td>0.000000e+00</td>\n",
       "      <td>-4481.839822</td>\n",
       "      <td>...</td>\n",
       "      <td>0.0</td>\n",
       "      <td>0.000000</td>\n",
       "      <td>0.000000</td>\n",
       "      <td>0.000000</td>\n",
       "      <td>-0.040961</td>\n",
       "      <td>-0.008192</td>\n",
       "      <td>-0.032769</td>\n",
       "      <td>0.000000</td>\n",
       "      <td>0.000000</td>\n",
       "      <td>0.000000</td>\n",
       "    </tr>\n",
       "    <tr>\n",
       "      <th>2010-10-27 00:00:00-04:00</th>\n",
       "      <td>0.001058</td>\n",
       "      <td>0.001689</td>\n",
       "      <td>-0.005324</td>\n",
       "      <td>-0.003382</td>\n",
       "      <td>2246880</td>\n",
       "      <td>3.807906</td>\n",
       "      <td>-0.642575</td>\n",
       "      <td>0.093447</td>\n",
       "      <td>-1.283931e+06</td>\n",
       "      <td>-1749.648401</td>\n",
       "      <td>...</td>\n",
       "      <td>0.0</td>\n",
       "      <td>-0.026985</td>\n",
       "      <td>-0.005397</td>\n",
       "      <td>-0.021588</td>\n",
       "      <td>2.172186</td>\n",
       "      <td>0.427883</td>\n",
       "      <td>1.744303</td>\n",
       "      <td>-0.001643</td>\n",
       "      <td>-0.338195</td>\n",
       "      <td>-0.338768</td>\n",
       "    </tr>\n",
       "    <tr>\n",
       "      <th>2010-10-28 00:00:00-04:00</th>\n",
       "      <td>-0.004014</td>\n",
       "      <td>0.001054</td>\n",
       "      <td>0.004924</td>\n",
       "      <td>0.000424</td>\n",
       "      <td>2014979</td>\n",
       "      <td>-0.670404</td>\n",
       "      <td>1.612237</td>\n",
       "      <td>0.022801</td>\n",
       "      <td>-9.565856e+05</td>\n",
       "      <td>2431.787130</td>\n",
       "      <td>...</td>\n",
       "      <td>0.0</td>\n",
       "      <td>-0.044456</td>\n",
       "      <td>-0.013209</td>\n",
       "      <td>-0.031247</td>\n",
       "      <td>2.820152</td>\n",
       "      <td>0.906337</td>\n",
       "      <td>1.913815</td>\n",
       "      <td>-0.000632</td>\n",
       "      <td>0.042418</td>\n",
       "      <td>0.042409</td>\n",
       "    </tr>\n",
       "    <tr>\n",
       "      <th>2010-10-29 00:00:00-04:00</th>\n",
       "      <td>0.000636</td>\n",
       "      <td>-0.004211</td>\n",
       "      <td>-0.001278</td>\n",
       "      <td>0.000424</td>\n",
       "      <td>1751544</td>\n",
       "      <td>4.714914</td>\n",
       "      <td>0.536496</td>\n",
       "      <td>0.106305</td>\n",
       "      <td>-6.948202e+05</td>\n",
       "      <td>-1948.281059</td>\n",
       "      <td>...</td>\n",
       "      <td>0.0</td>\n",
       "      <td>-0.054267</td>\n",
       "      <td>-0.021420</td>\n",
       "      <td>-0.032847</td>\n",
       "      <td>2.152355</td>\n",
       "      <td>1.155541</td>\n",
       "      <td>0.996815</td>\n",
       "      <td>-0.000129</td>\n",
       "      <td>0.042400</td>\n",
       "      <td>0.042391</td>\n",
       "    </tr>\n",
       "    <tr>\n",
       "      <th>2010-11-01 00:00:00-04:00</th>\n",
       "      <td>0.001060</td>\n",
       "      <td>0.008668</td>\n",
       "      <td>0.001493</td>\n",
       "      <td>0.002755</td>\n",
       "      <td>2032082</td>\n",
       "      <td>-0.052896</td>\n",
       "      <td>0.405094</td>\n",
       "      <td>0.082956</td>\n",
       "      <td>3.479065e+05</td>\n",
       "      <td>5610.009832</td>\n",
       "      <td>...</td>\n",
       "      <td>0.0</td>\n",
       "      <td>-0.039395</td>\n",
       "      <td>-0.025015</td>\n",
       "      <td>-0.014379</td>\n",
       "      <td>2.815235</td>\n",
       "      <td>1.487480</td>\n",
       "      <td>1.327755</td>\n",
       "      <td>0.001282</td>\n",
       "      <td>0.275482</td>\n",
       "      <td>0.275103</td>\n",
       "    </tr>\n",
       "  </tbody>\n",
       "</table>\n",
       "<p>5 rows × 90 columns</p>\n",
       "</div>"
      ],
      "text/plain": [
       "                               Open      High       Low     Close   Volume  \\\n",
       "Date                                                                         \n",
       "2010-10-26 00:00:00-04:00  0.001059 -0.007334 -0.005506  0.000000  1743843   \n",
       "2010-10-27 00:00:00-04:00  0.001058  0.001689 -0.005324 -0.003382  2246880   \n",
       "2010-10-28 00:00:00-04:00 -0.004014  0.001054  0.004924  0.000424  2014979   \n",
       "2010-10-29 00:00:00-04:00  0.000636 -0.004211 -0.001278  0.000424  1751544   \n",
       "2010-11-01 00:00:00-04:00  0.001060  0.008668  0.001493  0.002755  2032082   \n",
       "\n",
       "                           volume_adi  volume_obv  volume_cmf     volume_fi  \\\n",
       "Date                                                                          \n",
       "2010-10-26 00:00:00-04:00   -1.099510    0.994867    0.031925  0.000000e+00   \n",
       "2010-10-27 00:00:00-04:00    3.807906   -0.642575    0.093447 -1.283931e+06   \n",
       "2010-10-28 00:00:00-04:00   -0.670404    1.612237    0.022801 -9.565856e+05   \n",
       "2010-10-29 00:00:00-04:00    4.714914    0.536496    0.106305 -6.948202e+05   \n",
       "2010-11-01 00:00:00-04:00   -0.052896    0.405094    0.082956  3.479065e+05   \n",
       "\n",
       "                             volume_em  ...  momentum_roc  momentum_ppo  \\\n",
       "Date                                    ...                               \n",
       "2010-10-26 00:00:00-04:00 -4481.839822  ...           0.0      0.000000   \n",
       "2010-10-27 00:00:00-04:00 -1749.648401  ...           0.0     -0.026985   \n",
       "2010-10-28 00:00:00-04:00  2431.787130  ...           0.0     -0.044456   \n",
       "2010-10-29 00:00:00-04:00 -1948.281059  ...           0.0     -0.054267   \n",
       "2010-11-01 00:00:00-04:00  5610.009832  ...           0.0     -0.039395   \n",
       "\n",
       "                           momentum_ppo_signal  momentum_ppo_hist  \\\n",
       "Date                                                                \n",
       "2010-10-26 00:00:00-04:00             0.000000           0.000000   \n",
       "2010-10-27 00:00:00-04:00            -0.005397          -0.021588   \n",
       "2010-10-28 00:00:00-04:00            -0.013209          -0.031247   \n",
       "2010-10-29 00:00:00-04:00            -0.021420          -0.032847   \n",
       "2010-11-01 00:00:00-04:00            -0.025015          -0.014379   \n",
       "\n",
       "                           momentum_pvo  momentum_pvo_signal  \\\n",
       "Date                                                           \n",
       "2010-10-26 00:00:00-04:00     -0.040961            -0.008192   \n",
       "2010-10-27 00:00:00-04:00      2.172186             0.427883   \n",
       "2010-10-28 00:00:00-04:00      2.820152             0.906337   \n",
       "2010-10-29 00:00:00-04:00      2.152355             1.155541   \n",
       "2010-11-01 00:00:00-04:00      2.815235             1.487480   \n",
       "\n",
       "                           momentum_pvo_hist  momentum_kama  others_dr  \\\n",
       "Date                                                                     \n",
       "2010-10-26 00:00:00-04:00          -0.032769       0.000000   0.000000   \n",
       "2010-10-27 00:00:00-04:00           1.744303      -0.001643  -0.338195   \n",
       "2010-10-28 00:00:00-04:00           1.913815      -0.000632   0.042418   \n",
       "2010-10-29 00:00:00-04:00           0.996815      -0.000129   0.042400   \n",
       "2010-11-01 00:00:00-04:00           1.327755       0.001282   0.275482   \n",
       "\n",
       "                           others_dlr  \n",
       "Date                                   \n",
       "2010-10-26 00:00:00-04:00    0.000000  \n",
       "2010-10-27 00:00:00-04:00   -0.338768  \n",
       "2010-10-28 00:00:00-04:00    0.042409  \n",
       "2010-10-29 00:00:00-04:00    0.042391  \n",
       "2010-11-01 00:00:00-04:00    0.275103  \n",
       "\n",
       "[5 rows x 90 columns]"
      ]
     },
     "execution_count": 9,
     "metadata": {},
     "output_type": "execute_result"
    }
   ],
   "source": [
    "# Find NaN Rows\n",
    "na_list = df_stationary.columns[df_stationary.isna().any().tolist()]\n",
    "df_stationary.drop(columns=na_list, inplace=True)\n",
    "# Handle inf values\n",
    "df_stationary.replace([np.inf, -np.inf], 0, inplace=True)\n",
    "df_stationary.head()"
   ]
  },
  {
   "cell_type": "markdown",
   "id": "840e31ee",
   "metadata": {
    "id": "840e31ee"
   },
   "source": [
    "Now when data are stationary and 'Close' is actually return values -  let's check how it looks"
   ]
  },
  {
   "cell_type": "code",
   "execution_count": 10,
   "id": "23c9ae99",
   "metadata": {
    "colab": {
     "base_uri": "https://localhost:8080/",
     "height": 472
    },
    "id": "23c9ae99",
    "outputId": "9f755a1e-d55b-4833-e19f-f8e1228a64d1",
    "scrolled": false
   },
   "outputs": [
    {
     "data": {
      "image/png": "[encoded data removed]",
      "text/plain": [
       "<Figure size 640x480 with 1 Axes>"
      ]
     },
     "metadata": {},
     "output_type": "display_data"
    }
   ],
   "source": [
    "df_stationary['Close'].hist(bins=100, grid=False, color='blue', alpha=0.7)\n",
    "plt.title('Histogram of SP500 return prices')\n",
    "plt.xlabel('Value')\n",
    "plt.ylabel('Frequency')\n",
    "plt.show()"
   ]
  },
  {
   "cell_type": "markdown",
   "id": "-gt06oOJ4aZl",
   "metadata": {
    "id": "-gt06oOJ4aZl"
   },
   "source": [
    "## Split data to train and test\n"
   ]
  },
  {
   "cell_type": "code",
   "execution_count": 11,
   "id": "XPLrRwEd4P9N",
   "metadata": {
    "id": "XPLrRwEd4P9N"
   },
   "outputs": [],
   "source": [
    "# first 80% of df is training set -> rest of it will be test set\n",
    "train_set, test_set= np.split(df_stationary, [int(0.80 *len(df_stationary))])\n"
   ]
  },
  {
   "cell_type": "markdown",
   "id": "37e8319b",
   "metadata": {
    "id": "37e8319b"
   },
   "source": [
    " Now set our targets based on train set"
   ]
  },
  {
   "cell_type": "code",
   "execution_count": 12,
   "id": "f98d7165",
   "metadata": {
    "id": "f98d7165"
   },
   "outputs": [],
   "source": [
    "first_quantile = train_set['Close'].quantile(0.25) # significant down move\n",
    "last_quantile = train_set['Close'].quantile(0.75) # significant upper move"
   ]
  },
  {
   "cell_type": "code",
   "execution_count": 13,
   "id": "FAa-0fS75FI5",
   "metadata": {
    "colab": {
     "base_uri": "https://localhost:8080/"
    },
    "id": "FAa-0fS75FI5",
    "outputId": "fc77259d-ee4d-433e-b2eb-3f2e473b8e32"
   },
   "outputs": [
    {
     "data": {
      "text/plain": [
       "-0.00343542419426357"
      ]
     },
     "execution_count": 13,
     "metadata": {},
     "output_type": "execute_result"
    }
   ],
   "source": [
    "first_quantile"
   ]
  },
  {
   "cell_type": "code",
   "execution_count": 14,
   "id": "-hBKziy55HJQ",
   "metadata": {
    "colab": {
     "base_uri": "https://localhost:8080/"
    },
    "id": "-hBKziy55HJQ",
    "outputId": "2036bed5-7bcc-43d3-9088-48d8ae9e458a"
   },
   "outputs": [
    {
     "data": {
      "text/plain": [
       "0.005359219953131988"
      ]
     },
     "execution_count": 14,
     "metadata": {},
     "output_type": "execute_result"
    }
   ],
   "source": [
    "last_quantile"
   ]
  },
  {
   "cell_type": "code",
   "execution_count": 15,
   "id": "04d8cdca",
   "metadata": {
    "colab": {
     "base_uri": "https://localhost:8080/",
     "height": 472
    },
    "id": "04d8cdca",
    "outputId": "803ae7b3-fb3b-4234-8440-562c0b7ce2ab"
   },
   "outputs": [
    {
     "data": {
      "image/png": "[encoded data removed]",
      "text/plain": [
       "<Figure size 640x480 with 1 Axes>"
      ]
     },
     "metadata": {},
     "output_type": "display_data"
    }
   ],
   "source": [
    "train_set['Close'].hist(bins=100, grid=False, color='blue', alpha=0.7)\n",
    "plt.axvline(first_quantile, color='green', linestyle='dashed', linewidth=2, label='1st Quantile')\n",
    "plt.axvline(last_quantile, color='red', linestyle='dashed', linewidth=2, label='Last Quantile')\n",
    "plt.title('Histogram of SP500 return prices')\n",
    "plt.xlabel('Value')\n",
    "plt.ylabel('Frequency')\n",
    "plt.legend()\n",
    "plt.show()"
   ]
  },
  {
   "cell_type": "markdown",
   "id": "5c474dfc",
   "metadata": {
    "id": "5c474dfc"
   },
   "source": [
    "Everything from green line to left, and from red line to right is considered to be significant movement."
   ]
  },
  {
   "cell_type": "markdown",
   "id": "TiMwWwd6sWFE",
   "metadata": {
    "id": "TiMwWwd6sWFE"
   },
   "source": [
    "## Setting targets"
   ]
  },
  {
   "cell_type": "code",
   "execution_count": 16,
   "id": "62c96ed8",
   "metadata": {
    "id": "62c96ed8"
   },
   "outputs": [],
   "source": [
    "#creating target column\n",
    "# (0 -> no deal)\n",
    "# (1-> short)\n",
    "# (2 -> long)\n",
    "\n",
    "train_set['Target'] = np.where(train_set['Close'] <= first_quantile, 1,\n",
    "                        np.where(train_set['Close'] >= last_quantile, 2, 0))\n",
    "#target is based on next day value, so we need to shift it\n",
    "train_set['Target'] = train_set['Target'].shift(-1)\n",
    "# dropping NaN from the entire DataFrame\n",
    "train_set.dropna(inplace=True) # droping NaN\n",
    "\n",
    "#do the same on test set\n",
    "test_set['Target'] = np.where(test_set['Close'] <= first_quantile, 1,\n",
    "                        np.where(test_set['Close'] >= last_quantile, 2, 0))\n",
    "\n",
    "test_set['Target'] = test_set['Target'].shift(-1)\n",
    "\n",
    "test_set.dropna(inplace=True) # droping NaN"
   ]
  },
  {
   "cell_type": "markdown",
   "id": "57e0cd35",
   "metadata": {
    "id": "57e0cd35"
   },
   "source": [
    "The closing price is the last price of the day (session). This means that for instruments for which the session has not ended, the price will be determined based on the last price. Since it will be possible to determine the rate of return only after the end of the day, the last row of test data should be removed, since the prediction is created on the basis of the \"virtual closing price\""
   ]
  },
  {
   "cell_type": "code",
   "execution_count": 17,
   "id": "9718ae4d",
   "metadata": {
    "id": "9718ae4d"
   },
   "outputs": [],
   "source": [
    "#droping last row of test set\n",
    "test_set.drop(test_set.tail(1).index,inplace = True)"
   ]
  },
  {
   "cell_type": "code",
   "execution_count": 18,
   "id": "67137fcc",
   "metadata": {
    "id": "67137fcc"
   },
   "outputs": [],
   "source": [
    "X_train = train_set.drop(columns={'Target'})\n",
    "y_train = train_set['Target']\n",
    "\n",
    "X_test = test_set.drop(columns={'Target'})\n",
    "y_test = test_set['Target']"
   ]
  },
  {
   "cell_type": "markdown",
   "id": "4RGdU4U0kLlD",
   "metadata": {
    "id": "4RGdU4U0kLlD"
   },
   "source": [
    "## Creating Pipeline"
   ]
  },
  {
   "cell_type": "markdown",
   "id": "eme_GZDK5nAO",
   "metadata": {
    "id": "eme_GZDK5nAO"
   },
   "source": [
    "Because of the large number of columns, I will use the unsupervised learning method - PCA - to find 90% of variance in training set. I need to first use StandardScaler. After PCA, I want to find best model using GridSearchCV (I will use XGB and Random Forest Classifier). There is why I'm going to create Pipeline."
   ]
  },
  {
   "cell_type": "code",
   "execution_count": 19,
   "id": "OJad-DXe6kiA",
   "metadata": {
    "colab": {
     "base_uri": "https://localhost:8080/"
    },
    "id": "OJad-DXe6kiA",
    "outputId": "81e6fcf1-80a6-42ab-d22a-948873d7b5d1"
   },
   "outputs": [
    {
     "name": "stderr",
     "output_type": "stream",
     "text": [
      "/Users/krzysztofkaminski/anaconda3/lib/python3.11/site-packages/sklearn/model_selection/_search.py:952: UserWarning: One or more of the test scores are non-finite: [       nan        nan        nan        nan        nan        nan\n",
      "        nan        nan        nan        nan        nan        nan\n",
      "        nan        nan        nan        nan        nan        nan\n",
      "        nan        nan        nan        nan        nan        nan\n",
      "        nan        nan        nan        nan        nan        nan\n",
      "        nan        nan        nan        nan        nan        nan\n",
      "        nan        nan        nan        nan        nan        nan\n",
      "        nan        nan        nan        nan        nan        nan\n",
      "        nan        nan        nan        nan        nan        nan\n",
      "        nan        nan        nan        nan        nan        nan\n",
      "        nan        nan        nan        nan        nan        nan\n",
      "        nan        nan        nan        nan        nan        nan\n",
      "        nan        nan        nan        nan        nan        nan\n",
      "        nan        nan        nan        nan        nan        nan\n",
      "        nan        nan        nan        nan        nan        nan\n",
      "        nan        nan        nan        nan        nan        nan\n",
      "        nan        nan        nan        nan        nan        nan\n",
      "        nan        nan        nan        nan        nan        nan\n",
      "        nan        nan        nan        nan        nan        nan\n",
      "        nan        nan        nan        nan        nan        nan\n",
      "        nan        nan        nan        nan        nan        nan\n",
      "        nan        nan        nan        nan        nan        nan\n",
      "        nan        nan        nan        nan        nan        nan\n",
      "        nan        nan        nan        nan        nan        nan\n",
      "        nan        nan        nan        nan        nan        nan\n",
      "        nan        nan        nan        nan        nan        nan\n",
      "        nan        nan        nan        nan        nan        nan\n",
      "        nan        nan        nan        nan        nan        nan\n",
      "        nan        nan        nan        nan        nan        nan\n",
      "        nan        nan        nan        nan        nan        nan\n",
      "        nan        nan        nan        nan        nan        nan\n",
      "        nan        nan        nan        nan        nan        nan\n",
      "        nan        nan        nan        nan        nan        nan\n",
      "        nan        nan        nan        nan        nan        nan\n",
      "        nan        nan        nan        nan        nan        nan\n",
      "        nan        nan        nan        nan        nan        nan\n",
      "        nan        nan        nan        nan        nan        nan\n",
      "        nan        nan        nan        nan        nan        nan\n",
      "        nan        nan        nan        nan        nan        nan\n",
      "        nan        nan        nan        nan        nan        nan\n",
      " 0.46308213 0.47993011 0.4883519  0.48796363 0.45466107 0.48221504\n",
      " 0.49217453 0.49141557 0.47343135 0.48911599 0.49790994 0.49447192\n",
      " 0.45849615 0.48643693 0.49868501 0.50289005 0.48412636 0.49179872\n",
      " 0.50365486 0.49677077 0.46996476 0.49868428 0.49791653 0.49485799\n",
      " 0.46691575 0.49484993 0.4967715  0.5009736  0.46921167 0.49752753\n",
      " 0.4986916  0.50326806 0.47380717 0.49255841 0.50825257 0.50289151\n",
      " 0.45887929 0.48413954 0.4914185  0.49294594 0.45275635 0.49179066\n",
      " 0.49255328 0.49639275 0.46232537 0.48911599 0.48567577 0.49409244\n",
      " 0.46269606 0.47686791 0.48911819 0.49638763 0.45580903 0.4826143\n",
      " 0.49562281 0.4979114  0.48144803 0.50557497 0.5025091  0.4983004\n",
      " 0.47800268 0.50213255 0.49829674 0.49829381 0.47457199 0.50250764\n",
      " 0.50250397 0.50480942 0.47074057 0.49638982 0.49371369 0.50595225\n",
      " 0.48144803 0.48489997 0.48106928 0.49523087 0.45926024 0.48452488\n",
      " 0.48338352 0.49639349 0.46041406 0.48873138 0.49752972 0.48988008\n",
      " 0.48337253 0.49485433 0.49638323 0.49523673 0.46155689 0.48988008\n",
      " 0.4948514  0.49179139 0.46652967 0.49370563 0.49485726 0.4983004\n",
      " 0.47035816 0.49179066 0.49523967 0.51016241 0.46347333 0.49677003\n",
      " 0.49944543 0.50709875 0.48337033 0.49983444 0.50136481 0.50595078\n",
      " 0.49063391 0.49523893 0.50595152 0.51398358 0.50020952 0.49714732\n",
      " 0.5078599  0.50786283 0.49446313 0.4994425  0.4986938  0.50594932\n",
      " 0.47301818 0.49715244 0.50288565 0.50824524 0.48260624 0.50059779\n",
      " 0.49906009 0.51092796 0.47647744 0.50595372 0.51475499 0.50977488\n",
      " 0.48414614 0.51207373 0.51283415 0.51474986 0.49447045 0.50747529\n",
      " 0.51168692 0.51053896 0.49178919 0.49561475 0.5124554  0.5082489\n",
      " 0.48680908 0.50059779 0.50327758 0.50671707 0.48872039 0.50709948\n",
      " 0.50480429 0.51551394 0.48337033 0.5063288  0.50365999 0.50671341\n",
      " 0.49102657 0.50289957 0.49715025 0.50862838 0.48527578 0.51131257\n",
      " 0.5051889  0.50135968 0.4895006  0.50594346 0.50748335 0.51628462\n",
      " 0.49485799 0.50135235 0.51551541 0.51322242 0.49139579 0.51322022\n",
      " 0.51588756 0.50901445 0.48986176 0.50824964 0.50556618 0.51512934\n",
      " 0.47992791 0.50059339 0.50480136 0.50556911 0.48949034 0.49868208\n",
      " 0.50173549 0.51054263 0.48031179 0.50825183 0.51322608 0.50403215\n",
      " 0.50518963 0.50634125 0.50633905 0.50671634 0.47343135 0.50632807\n",
      " 0.50556178 0.5113133  0.50595225 0.50824817 0.50824744 0.51857981\n",
      " 0.50135968 0.50710168 0.50403874 0.51206933 0.50710021 0.51092723\n",
      " 0.50709655 0.51322462 0.49064343 0.51016241 0.5093976  0.51015655\n",
      " 0.45504494 0.48184729 0.49140239 0.48988374 0.44472429 0.48912039\n",
      " 0.49103316 0.49141045 0.47533607 0.48719515 0.48452708 0.49217673\n",
      " 0.47111932 0.49408072 0.49178699 0.50212816 0.47379984 0.48260624\n",
      " 0.48873651 0.49332469 0.48067368 0.49791287 0.49523967 0.49982931\n",
      " 0.47380131 0.50441162 0.4994447  0.50288638 0.46537439 0.49562061\n",
      " 0.49753559 0.50442335 0.4795477  0.5109265  0.50213329 0.5009824\n",
      " 0.45350359 0.47763273 0.48070299 0.49065149 0.46882852 0.48261357\n",
      " 0.49524186 0.49715171 0.47647964 0.49715244 0.49333348 0.49409024\n",
      " 0.44203058 0.47571409 0.50289005 0.49140971 0.46080086 0.48834971\n",
      " 0.48872845 0.4998403  0.46039941 0.49523747 0.50021098 0.48911746\n",
      " 0.48298059 0.492176   0.49983517 0.50480356 0.48336667 0.49982711\n",
      " 0.50633539 0.49523747 0.48757756 0.5009758  0.50058534 0.50288931\n",
      " 0.46500077 0.48413002 0.49676051 0.48452635 0.45581562 0.47342476\n",
      " 0.49484846 0.49370344 0.46155689 0.48145828 0.49180018 0.49026249\n",
      " 0.45543614 0.48758928 0.50174575 0.50136261 0.4577284  0.49256646\n",
      " 0.49523234 0.49944763 0.46194369 0.5051889  0.49753632 0.50136041\n",
      " 0.46922046 0.49447631 0.49370417 0.50596031 0.47188926 0.49523673\n",
      " 0.4994425  0.49944031 0.4753412  0.49637957 0.49409244 0.50595372\n",
      " 0.4508443  0.47762613 0.48184582 0.48911819 0.44472136 0.48489777\n",
      " 0.49370197 0.49217746 0.4565929  0.4894984  0.48834971 0.4898852\n",
      " 0.4581262  0.48987495 0.4906405  0.49485359 0.46652528 0.49141411\n",
      " 0.48681348 0.49561988 0.45505813 0.49064489 0.49294228 0.5025091\n",
      " 0.4718812  0.49447485 0.50136041 0.50901445 0.46882266 0.50288492\n",
      " 0.49907255 0.50480502 0.47418592 0.50098533 0.49868281 0.49715391\n",
      " 0.45850274 0.48070372 0.48145828 0.49677223 0.47227533 0.48911379\n",
      " 0.48720028 0.48949767 0.46538171 0.49409464 0.49447558 0.48834897\n",
      " 0.46958528 0.48604353 0.48950206 0.49408511 0.46040673 0.48070079\n",
      " 0.4933181  0.49371369 0.47916969 0.49561475 0.49447265 0.50097947\n",
      " 0.46116349 0.5040424  0.5051889  0.5036556  0.48834385 0.49715904\n",
      " 0.50594492 0.49676564 0.49407852 0.49255547 0.50517718 0.49944763\n",
      " 0.46193637 0.48298352 0.48107368 0.48759002 0.45351091 0.48223116\n",
      " 0.49714878 0.48491095 0.46652967 0.49026102 0.48949327 0.49218552\n",
      " 0.45389918 0.49446972 0.49447411 0.49026835 0.47420057 0.48911086\n",
      " 0.48834604 0.500978   0.47149806 0.49639568 0.48988154 0.49944983\n",
      " 0.47649209 0.50825696 0.50595372 0.50671414 0.46424328 0.49371442\n",
      " 0.50441822 0.5155264  0.4707479  0.49217819 0.50136041 0.51130891\n",
      " 0.46117155 0.48221431 0.48567138 0.48719589 0.46692234 0.48758709\n",
      " 0.48184289 0.49218039 0.47036402 0.48414321 0.48834824 0.49562354\n",
      " 0.45084504 0.49140678 0.49830333 0.49333055 0.47038014 0.48911819\n",
      " 0.48719662 0.50251057 0.46845417 0.49753046 0.49178626 0.49982784\n",
      " 0.48643913 0.49753632 0.5009802  0.50786942 0.47762174 0.49218479\n",
      " 0.50173989 0.50059706 0.48222237 0.50326879 0.49600009 0.50748262\n",
      " 0.46002212 0.48873578 0.48987934 0.49830407 0.45314096 0.48375054\n",
      " 0.48146561 0.49868794 0.46576046 0.49141045 0.48567284 0.49599862\n",
      " 0.45504861 0.48451023 0.49791799 0.49179285 0.44930734 0.49371296\n",
      " 0.49141631 0.49714365 0.47188926 0.48681787 0.50021465 0.49600522\n",
      " 0.45467645 0.50021098 0.50173916 0.50403801 0.46919482 0.49905423\n",
      " 0.49906449 0.50671267 0.46231365 0.49600229 0.50097654 0.50480356\n",
      " 0.46193051 0.48528237 0.48796437 0.47992938 0.47074277 0.48567504\n",
      " 0.48758269 0.49332835 0.46616192 0.48031399 0.49370856 0.49447631\n",
      " 0.4692102  0.48949693 0.4841454  0.49677443 0.47457052 0.48643107\n",
      " 0.48872992 0.48605452 0.4638572  0.49715611 0.50404094 0.49141557\n",
      " 0.46538318 0.49752826 0.50250837 0.51246126 0.48222017 0.48374541\n",
      " 0.50939979 0.49983077 0.48796363 0.49752167 0.5051845  0.50173989\n",
      " 0.44510377 0.4822275  0.48108027 0.49332103 0.46499637 0.47916603\n",
      " 0.48987934 0.49371442 0.46309678 0.4963781  0.47955503 0.48988081\n",
      " 0.47111565 0.48759002 0.49523893 0.48989033 0.46310044 0.49753705\n",
      " 0.49217526 0.49792386 0.48337985 0.49561768 0.5040468  0.50173842\n",
      " 0.48184875 0.49906742 0.50212596 0.50442261 0.48106489 0.49408951\n",
      " 0.49561255 0.49791653 0.47915504 0.50020805 0.49943884 0.50136774\n",
      " 0.46156202 0.49178846 0.48222383 0.49026981 0.45006923 0.48031106\n",
      " 0.48606404 0.49830333 0.45926243 0.4837542  0.49447192 0.49447411\n",
      " 0.45696432 0.49026542 0.50059486 0.49868941 0.47648916 0.48299305\n",
      " 0.4910295  0.49256207 0.47265994 0.48911599 0.49677003 0.50212816\n",
      " 0.4875717  0.50172743 0.4979158  0.50212962 0.45888002 0.48948668\n",
      " 0.49677296 0.50212816 0.47992205 0.49753852 0.49484627 0.50633393\n",
      " 0.43744606 0.48758635 0.49179725 0.49179505 0.46232024 0.49217966\n",
      " 0.48988227 0.48987861 0.46654286 0.49295107 0.48644059 0.49294448\n",
      " 0.46308433 0.48987861 0.48872992 0.49562647 0.45429111 0.48529263\n",
      " 0.4937049  0.49906815 0.46806297 0.49523527 0.50403947 0.4948514\n",
      " 0.48413515 0.5055735  0.49447558 0.50327099 0.48221431 0.49753925\n",
      " 0.49523527 0.50595372 0.4711032  0.49676198 0.50786796 0.4979158 ]\n",
      "  warnings.warn(\n"
     ]
    },
    {
     "name": "stdout",
     "output_type": "stream",
     "text": [
      "Best Classifier: RandomForestClassifier(max_depth=10, max_features='log2', min_samples_leaf=2,\n",
      "                       min_samples_split=10, n_estimators=200)\n"
     ]
    }
   ],
   "source": [
    "# scaler, PCA, GridSearch\n",
    "pipeline = Pipeline([\n",
    "    (\"preprocessing\", StandardScaler()),\n",
    "    (\"PCA\", PCA(0.9)),\n",
    "    (\"classifier\", RandomForestClassifier())\n",
    "])\n",
    "\n",
    "# define parameter grid\n",
    "param_grid = [{\n",
    "    'classifier' : [XGBClassifier()],\n",
    "    'classifier__objective':['multi:softprob','multi:softmax'],\n",
    "    'classifier__learning_rate': [0.005, 0.01, 0.1, 0.2, 0.3, 0.5],\n",
    "    'classifier__max_depth': [1,2,3,5,6],\n",
    "    'classifier__n_estimators': [50, 100, 200, 300],\n",
    "    'classifier__tree_method':['gpu_hist'],\n",
    "},\n",
    "{\n",
    "    'classifier' : [RandomForestClassifier()],\n",
    "    'classifier__n_estimators': [10, 50, 100, 200],\n",
    "    'classifier__max_features': ['auto', 'sqrt', 'log2'],\n",
    "    'classifier__max_depth': [None, 10, 20, 30, 40, 50],\n",
    "    'classifier__min_samples_split': [2, 5, 10],\n",
    "    'classifier__min_samples_leaf': [1, 2, 4],\n",
    "}]\n",
    "\n",
    "clf = GridSearchCV(pipeline, param_grid, cv=5, verbose=0)\n",
    "\n",
    "best_model = clf.fit(X_train, y_train)\n",
    "\n",
    "# View best model\n",
    "best_classifier = best_model.best_estimator_.get_params()['classifier']\n",
    "print('Best Classifier:', best_classifier)"
   ]
  },
  {
   "cell_type": "code",
   "execution_count": 20,
   "id": "5-byzgoekUht",
   "metadata": {
    "id": "5-byzgoekUht"
   },
   "outputs": [],
   "source": [
    "y_pred_grid = best_model.predict(X_test)"
   ]
  },
  {
   "cell_type": "code",
   "execution_count": 21,
   "id": "--Wuwq5Plh4v",
   "metadata": {
    "id": "--Wuwq5Plh4v"
   },
   "outputs": [],
   "source": [
    "def print_metrics(y_true, y_pred, classifier_name):\n",
    "    print(classifier_name)\n",
    "    print(\"Precision:\", precision_score(y_true, y_pred_grid,average='weighted'))\n",
    "    print(\"Recall:\", recall_score(y_true, y_pred_grid,average='weighted'))\n",
    "    print(\"F1-score:\", f1_score(y_true, y_pred_grid,average='weighted'))\n",
    "    print(\"Confusion Matrix:\\n\", confusion_matrix(y_true, y_pred_grid))"
   ]
  },
  {
   "cell_type": "code",
   "execution_count": 23,
   "id": "NCGaP0yR9gB_",
   "metadata": {
    "colab": {
     "base_uri": "https://localhost:8080/"
    },
    "id": "NCGaP0yR9gB_",
    "outputId": "a84dc8cb-5131-414d-d4c5-efc566dcff49"
   },
   "outputs": [
    {
     "name": "stdout",
     "output_type": "stream",
     "text": [
      "Random Forest Classifier\n",
      "Precision: 0.4005813072786488\n",
      "Recall: 0.4156441717791411\n",
      "F1-score: 0.38582649115700113\n",
      "Confusion Matrix:\n",
      " [[158  24  65]\n",
      " [ 84  28 105]\n",
      " [ 74  29  85]]\n"
     ]
    }
   ],
   "source": [
    "print_metrics(y_test, y_pred_grid, \"Random Forest Classifier\")"
   ]
  },
  {
   "cell_type": "markdown",
   "id": "bf5aeff4",
   "metadata": {
    "id": "bf5aeff4"
   },
   "source": [
    "Looking at confusion matrix I can say, that model is good in predicting when to not to trade. Which can be helpful, but goal is to properly predict when to sell or buy."
   ]
  },
  {
   "cell_type": "markdown",
   "id": "92999e78",
   "metadata": {
    "id": "92999e78"
   },
   "source": [
    "## Conclusion"
   ]
  },
  {
   "cell_type": "markdown",
   "id": "b4743fc8",
   "metadata": {
    "id": "b4743fc8"
   },
   "source": [
    "Assuming that all the data is already in the price and with the help of technical analysis alone you can predict significant movements of asset is wrong. There are a number of factors influencing investors behavior that go beyond historical movements.\n",
    "\n",
    "Of course, the project does not exclude the possibility of effective use of this type of analysis. A considerable limitation, and the disadvantage of the approach used, was the setting of the target as a significant upward or downward movement of the next day.\n",
    "\n",
    "It is possible that a study focused on whether there would be a significant movement within 'x' days could have proved much more accurate. Nevertheless, in such a case there would have been a risk of adjusting the approach to suit the expected result, which is a crucial mistake."
   ]
  }
 ],
 "metadata": {
  "accelerator": "GPU",
  "colab": {
   "gpuType": "T4",
   "provenance": []
  },
  "kernelspec": {
   "display_name": "Python 3 (ipykernel)",
   "language": "python",
   "name": "python3"
  },
  "language_info": {
   "codemirror_mode": {
    "name": "ipython",
    "version": 3
   },
   "file_extension": ".py",
   "mimetype": "text/x-python",
   "name": "python",
   "nbconvert_exporter": "python",
   "pygments_lexer": "ipython3",
   "version": "3.11.3"
  }
 },
 "nbformat": 4,
 "nbformat_minor": 5
}
