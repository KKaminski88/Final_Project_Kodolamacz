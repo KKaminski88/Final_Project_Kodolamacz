{
 "cells": [
  {
   "cell_type": "markdown",
   "id": "78a1b63a",
   "metadata": {
    "id": "78a1b63a"
   },
   "source": [
    "# Prediction of next day return of S&P500 futures based on historical prices using technical analysis and Machine Learning"
   ]
  },
  {
   "cell_type": "markdown",
   "id": "ab2c778c",
   "metadata": {
    "id": "ab2c778c"
   },
   "source": [
    "## Project Overview:\n",
    "\n",
    "The S&P500, which includes 500 of the largest companies listed on the stock market in the United States, represents a broad cross-section of the U.S. equity market. The primary aim of this project was to build a machine learning classifier capable of will tomorrow sesion will end with significant up or down. Importence of movement is based on historical daily returns.\n",
    "\n",
    "**Why classification not regression?**\n",
    "\n",
    "While it may seem like setting this up as a regression problem (predicting where the price will be) I recognized that, according to the random walk hypothesis, not every move is worth tracking. Therefore, I chose to classify them as either a significant decline (1) or a significant increase (2). On the other hand, everything in between is considered random walk (value 0) and not worth trading.\n"
   ]
  },
  {
   "cell_type": "markdown",
   "id": "2ea837a9",
   "metadata": {
    "id": "2ea837a9"
   },
   "source": [
    "## Install yahoo finance and ta library"
   ]
  },
  {
   "cell_type": "code",
   "execution_count": 1,
   "id": "8ab76a4a",
   "metadata": {
    "colab": {
     "base_uri": "https://localhost:8080/"
    },
    "id": "8ab76a4a",
    "outputId": "a886bd33-2877-4ffe-b19d-6d8eba78beb7"
   },
   "outputs": [
    {
     "name": "stdout",
     "output_type": "stream",
     "text": [
      "Requirement already satisfied: yahoo-finance in c:\\users\\kkami\\anaconda3\\lib\\site-packages (1.4.0)\n",
      "Requirement already satisfied: pytz in c:\\users\\kkami\\anaconda3\\lib\\site-packages (from yahoo-finance) (2022.7)\n",
      "Requirement already satisfied: simplejson in c:\\users\\kkami\\anaconda3\\lib\\site-packages (from yahoo-finance) (3.19.1)\n",
      "Requirement already satisfied: ta in c:\\users\\kkami\\anaconda3\\lib\\site-packages (0.10.2)\n",
      "Requirement already satisfied: pandas in c:\\users\\kkami\\anaconda3\\lib\\site-packages (from ta) (1.5.3)\n",
      "Requirement already satisfied: numpy in c:\\users\\kkami\\anaconda3\\lib\\site-packages (from ta) (1.23.5)\n",
      "Requirement already satisfied: pytz>=2020.1 in c:\\users\\kkami\\anaconda3\\lib\\site-packages (from pandas->ta) (2022.7)\n",
      "Requirement already satisfied: python-dateutil>=2.8.1 in c:\\users\\kkami\\anaconda3\\lib\\site-packages (from pandas->ta) (2.8.2)\n",
      "Requirement already satisfied: six>=1.5 in c:\\users\\kkami\\anaconda3\\lib\\site-packages (from python-dateutil>=2.8.1->pandas->ta) (1.16.0)\n"
     ]
    }
   ],
   "source": [
    "!pip install yahoo-finance\n",
    "!pip install ta"
   ]
  },
  {
   "cell_type": "markdown",
   "id": "24ac3e79",
   "metadata": {
    "id": "24ac3e79"
   },
   "source": [
    "## Imports"
   ]
  },
  {
   "cell_type": "code",
   "execution_count": 2,
   "id": "6385c6cb",
   "metadata": {
    "id": "6385c6cb"
   },
   "outputs": [],
   "source": [
    "# Remove unwanted warnings\n",
    "import warnings\n",
    "warnings.simplefilter(action='ignore', category=FutureWarning)\n",
    "warnings.simplefilter(action='ignore', category=RuntimeWarning)\n",
    "#import libriaries\n",
    "import yfinance as yf\n",
    "import numpy as np\n",
    "import pandas as pd\n",
    "#scaler, train_test_split\n",
    "from sklearn.preprocessing import MinMaxScaler, StandardScaler\n",
    "from sklearn.model_selection import train_test_split, GridSearchCV\n",
    "# machine learning models\n",
    "from sklearn.ensemble import RandomForestClassifier\n",
    "from xgboost import XGBClassifier\n",
    "#technical analysis\n",
    "from ta import add_all_ta_features\n",
    "#PCA\n",
    "from sklearn.decomposition import PCA\n",
    "# Statistics\n",
    "from statsmodels.tsa.stattools import adfuller\n",
    "# models validation\n",
    "from sklearn.metrics import accuracy_score, precision_score, recall_score, f1_score, confusion_matrix\n",
    "#visualization\n",
    "import matplotlib.pyplot as plt"
   ]
  },
  {
   "cell_type": "markdown",
   "id": "ba439986",
   "metadata": {
    "id": "ba439986"
   },
   "source": [
    "## Download data from yahoo finance (yf)"
   ]
  },
  {
   "cell_type": "code",
   "execution_count": 3,
   "id": "5d3be9f0",
   "metadata": {
    "colab": {
     "base_uri": "https://localhost:8080/",
     "height": 455
    },
    "id": "5d3be9f0",
    "outputId": "f5deca48-9e85-44f3-d856-6e99cffbcb6b",
    "scrolled": true
   },
   "outputs": [
    {
     "data": {
      "text/html": [
       "<div>\n",
       "<style scoped>\n",
       "    .dataframe tbody tr th:only-of-type {\n",
       "        vertical-align: middle;\n",
       "    }\n",
       "\n",
       "    .dataframe tbody tr th {\n",
       "        vertical-align: top;\n",
       "    }\n",
       "\n",
       "    .dataframe thead th {\n",
       "        text-align: right;\n",
       "    }\n",
       "</style>\n",
       "<table border=\"1\" class=\"dataframe\">\n",
       "  <thead>\n",
       "    <tr style=\"text-align: right;\">\n",
       "      <th></th>\n",
       "      <th>Open</th>\n",
       "      <th>High</th>\n",
       "      <th>Low</th>\n",
       "      <th>Close</th>\n",
       "      <th>Volume</th>\n",
       "    </tr>\n",
       "    <tr>\n",
       "      <th>Date</th>\n",
       "      <th></th>\n",
       "      <th></th>\n",
       "      <th></th>\n",
       "      <th></th>\n",
       "      <th></th>\n",
       "    </tr>\n",
       "  </thead>\n",
       "  <tbody>\n",
       "    <tr>\n",
       "      <th>2010-07-06 00:00:00-04:00</th>\n",
       "      <td>1015.00</td>\n",
       "      <td>1038.50</td>\n",
       "      <td>1002.75</td>\n",
       "      <td>1024.25</td>\n",
       "      <td>2431642</td>\n",
       "    </tr>\n",
       "    <tr>\n",
       "      <th>2010-07-07 00:00:00-04:00</th>\n",
       "      <td>1024.00</td>\n",
       "      <td>1059.75</td>\n",
       "      <td>1016.25</td>\n",
       "      <td>1059.25</td>\n",
       "      <td>2556140</td>\n",
       "    </tr>\n",
       "    <tr>\n",
       "      <th>2010-07-08 00:00:00-04:00</th>\n",
       "      <td>1058.75</td>\n",
       "      <td>1068.50</td>\n",
       "      <td>1054.00</td>\n",
       "      <td>1067.00</td>\n",
       "      <td>2112208</td>\n",
       "    </tr>\n",
       "    <tr>\n",
       "      <th>2010-07-09 00:00:00-04:00</th>\n",
       "      <td>1066.75</td>\n",
       "      <td>1075.00</td>\n",
       "      <td>1063.25</td>\n",
       "      <td>1072.50</td>\n",
       "      <td>1421814</td>\n",
       "    </tr>\n",
       "    <tr>\n",
       "      <th>2010-07-12 00:00:00-04:00</th>\n",
       "      <td>1071.50</td>\n",
       "      <td>1077.25</td>\n",
       "      <td>1065.50</td>\n",
       "      <td>1076.50</td>\n",
       "      <td>1382638</td>\n",
       "    </tr>\n",
       "    <tr>\n",
       "      <th>...</th>\n",
       "      <td>...</td>\n",
       "      <td>...</td>\n",
       "      <td>...</td>\n",
       "      <td>...</td>\n",
       "      <td>...</td>\n",
       "    </tr>\n",
       "    <tr>\n",
       "      <th>2023-06-26 00:00:00-04:00</th>\n",
       "      <td>4390.00</td>\n",
       "      <td>4403.00</td>\n",
       "      <td>4368.50</td>\n",
       "      <td>4370.25</td>\n",
       "      <td>1622416</td>\n",
       "    </tr>\n",
       "    <tr>\n",
       "      <th>2023-06-27 00:00:00-04:00</th>\n",
       "      <td>4375.75</td>\n",
       "      <td>4424.75</td>\n",
       "      <td>4371.50</td>\n",
       "      <td>4418.75</td>\n",
       "      <td>1512256</td>\n",
       "    </tr>\n",
       "    <tr>\n",
       "      <th>2023-06-28 00:00:00-04:00</th>\n",
       "      <td>4414.00</td>\n",
       "      <td>4430.25</td>\n",
       "      <td>4399.25</td>\n",
       "      <td>4417.50</td>\n",
       "      <td>1689461</td>\n",
       "    </tr>\n",
       "    <tr>\n",
       "      <th>2023-06-29 00:00:00-04:00</th>\n",
       "      <td>4423.75</td>\n",
       "      <td>4438.00</td>\n",
       "      <td>4409.75</td>\n",
       "      <td>4435.75</td>\n",
       "      <td>1689461</td>\n",
       "    </tr>\n",
       "    <tr>\n",
       "      <th>2023-07-03 00:00:00-04:00</th>\n",
       "      <td>4485.50</td>\n",
       "      <td>4493.25</td>\n",
       "      <td>4479.50</td>\n",
       "      <td>4491.50</td>\n",
       "      <td>508762</td>\n",
       "    </tr>\n",
       "  </tbody>\n",
       "</table>\n",
       "<p>3271 rows × 5 columns</p>\n",
       "</div>"
      ],
      "text/plain": [
       "                              Open     High      Low    Close   Volume\n",
       "Date                                                                  \n",
       "2010-07-06 00:00:00-04:00  1015.00  1038.50  1002.75  1024.25  2431642\n",
       "2010-07-07 00:00:00-04:00  1024.00  1059.75  1016.25  1059.25  2556140\n",
       "2010-07-08 00:00:00-04:00  1058.75  1068.50  1054.00  1067.00  2112208\n",
       "2010-07-09 00:00:00-04:00  1066.75  1075.00  1063.25  1072.50  1421814\n",
       "2010-07-12 00:00:00-04:00  1071.50  1077.25  1065.50  1076.50  1382638\n",
       "...                            ...      ...      ...      ...      ...\n",
       "2023-06-26 00:00:00-04:00  4390.00  4403.00  4368.50  4370.25  1622416\n",
       "2023-06-27 00:00:00-04:00  4375.75  4424.75  4371.50  4418.75  1512256\n",
       "2023-06-28 00:00:00-04:00  4414.00  4430.25  4399.25  4417.50  1689461\n",
       "2023-06-29 00:00:00-04:00  4423.75  4438.00  4409.75  4435.75  1689461\n",
       "2023-07-03 00:00:00-04:00  4485.50  4493.25  4479.50  4491.50   508762\n",
       "\n",
       "[3271 rows x 5 columns]"
      ]
     },
     "execution_count": 3,
     "metadata": {},
     "output_type": "execute_result"
    }
   ],
   "source": [
    "sp = yf.Ticker(\"ES=F\")\n",
    "hist = sp.history(period='13y')\n",
    "df=hist.drop(columns={'Dividends','Stock Splits'})\n",
    "df=df.dropna()\n",
    "df"
   ]
  },
  {
   "cell_type": "markdown",
   "id": "e07e9f76",
   "metadata": {
    "id": "e07e9f76"
   },
   "source": [
    "Look at chart of Close price because based on it we will create return values"
   ]
  },
  {
   "cell_type": "code",
   "execution_count": 4,
   "id": "1641a48a",
   "metadata": {
    "colab": {
     "base_uri": "https://localhost:8080/",
     "height": 472
    },
    "id": "1641a48a",
    "outputId": "12ec2e9d-c315-4eea-d76d-683e49b02fce"
   },
   "outputs": [
    {
     "data": {
      "image/png": "[encoded data removed]",
      "text/plain": [
       "<Figure size 640x480 with 1 Axes>"
      ]
     },
     "metadata": {},
     "output_type": "display_data"
    }
   ],
   "source": [
    "plt.plot(df.index,df['Close'])\n",
    "plt.title('Daily close of SP500 future')\n",
    "plt.xlabel('Date')\n",
    "plt.ylabel('Price')\n",
    "plt.show()"
   ]
  },
  {
   "cell_type": "markdown",
   "id": "ae1a9912",
   "metadata": {
    "id": "ae1a9912"
   },
   "source": [
    "Doesn't look like a stationary data. But look also at the histogram of these values."
   ]
  },
  {
   "cell_type": "code",
   "execution_count": 5,
   "id": "0b1e57c6",
   "metadata": {
    "colab": {
     "base_uri": "https://localhost:8080/",
     "height": 472
    },
    "id": "0b1e57c6",
    "outputId": "f433e0b8-908d-479f-ee6b-907e498ea337",
    "scrolled": false
   },
   "outputs": [
    {
     "data": {
      "image/png": "[encoded data removed]",
      "text/plain": [
       "<Figure size 640x480 with 1 Axes>"
      ]
     },
     "metadata": {},
     "output_type": "display_data"
    }
   ],
   "source": [
    "df['Close'].hist(bins=100, grid=False, color='blue', alpha=0.7)\n",
    "plt.title('Histogram of SP500 close prices')\n",
    "plt.xlabel('Value')\n",
    "plt.ylabel('Frequency')\n",
    "plt.show()"
   ]
  },
  {
   "cell_type": "markdown",
   "id": "ef475a7a",
   "metadata": {
    "id": "ef475a7a"
   },
   "source": [
    "Closing prices of S&P500 futures are definitely non-stationary data."
   ]
  },
  {
   "cell_type": "markdown",
   "id": "69068f34",
   "metadata": {
    "id": "69068f34"
   },
   "source": [
    "## Technical analysis"
   ]
  },
  {
   "cell_type": "markdown",
   "id": "2e8dc0a2",
   "metadata": {
    "id": "2e8dc0a2"
   },
   "source": [
    "Technical analysis is a method people use to evaluate investments and identify trading opportunities by analyzing statistical trends gathered from trading activity, such as price movement and volume. Instead of looking at the company's details like its financial health or products, they look at charts of price movement and various analytical tools to evaluate a security's strength or weakness. It can be used also for indicies or currencies trading. One of the rules of technical analysis says that the price already contains everything (the hopes and fears of investors). So, theoretically, using technical analysis alone, it should be possible to predict the price."
   ]
  },
  {
   "cell_type": "code",
   "execution_count": 6,
   "id": "16d508d5",
   "metadata": {
    "colab": {
     "base_uri": "https://localhost:8080/",
     "height": 591
    },
    "id": "16d508d5",
    "outputId": "782bb292-67f1-4195-c775-8dc8bb96ccf3",
    "scrolled": false
   },
   "outputs": [
    {
     "data": {
      "text/html": [
       "<div>\n",
       "<style scoped>\n",
       "    .dataframe tbody tr th:only-of-type {\n",
       "        vertical-align: middle;\n",
       "    }\n",
       "\n",
       "    .dataframe tbody tr th {\n",
       "        vertical-align: top;\n",
       "    }\n",
       "\n",
       "    .dataframe thead th {\n",
       "        text-align: right;\n",
       "    }\n",
       "</style>\n",
       "<table border=\"1\" class=\"dataframe\">\n",
       "  <thead>\n",
       "    <tr style=\"text-align: right;\">\n",
       "      <th></th>\n",
       "      <th>Open</th>\n",
       "      <th>High</th>\n",
       "      <th>Low</th>\n",
       "      <th>Close</th>\n",
       "      <th>Volume</th>\n",
       "      <th>volume_adi</th>\n",
       "      <th>volume_obv</th>\n",
       "      <th>volume_cmf</th>\n",
       "      <th>volume_fi</th>\n",
       "      <th>volume_em</th>\n",
       "      <th>...</th>\n",
       "      <th>momentum_ppo</th>\n",
       "      <th>momentum_ppo_signal</th>\n",
       "      <th>momentum_ppo_hist</th>\n",
       "      <th>momentum_pvo</th>\n",
       "      <th>momentum_pvo_signal</th>\n",
       "      <th>momentum_pvo_hist</th>\n",
       "      <th>momentum_kama</th>\n",
       "      <th>others_dr</th>\n",
       "      <th>others_dlr</th>\n",
       "      <th>others_cr</th>\n",
       "    </tr>\n",
       "    <tr>\n",
       "      <th>Date</th>\n",
       "      <th></th>\n",
       "      <th></th>\n",
       "      <th></th>\n",
       "      <th></th>\n",
       "      <th></th>\n",
       "      <th></th>\n",
       "      <th></th>\n",
       "      <th></th>\n",
       "      <th></th>\n",
       "      <th></th>\n",
       "      <th></th>\n",
       "      <th></th>\n",
       "      <th></th>\n",
       "      <th></th>\n",
       "      <th></th>\n",
       "      <th></th>\n",
       "      <th></th>\n",
       "      <th></th>\n",
       "      <th></th>\n",
       "      <th></th>\n",
       "      <th></th>\n",
       "    </tr>\n",
       "  </thead>\n",
       "  <tbody>\n",
       "    <tr>\n",
       "      <th>2010-07-06 00:00:00-04:00</th>\n",
       "      <td>1015.00</td>\n",
       "      <td>1038.50</td>\n",
       "      <td>1002.75</td>\n",
       "      <td>1024.25</td>\n",
       "      <td>2431642</td>\n",
       "      <td>4.931302e+05</td>\n",
       "      <td>2431642</td>\n",
       "      <td>0.202797</td>\n",
       "      <td>0.000000e+00</td>\n",
       "      <td>0.000000</td>\n",
       "      <td>...</td>\n",
       "      <td>0.000000</td>\n",
       "      <td>0.000000</td>\n",
       "      <td>0.000000</td>\n",
       "      <td>0.000000</td>\n",
       "      <td>0.000000</td>\n",
       "      <td>0.000000</td>\n",
       "      <td>1024.250000</td>\n",
       "      <td>-59.273366</td>\n",
       "      <td>0.000000</td>\n",
       "      <td>0.000000</td>\n",
       "    </tr>\n",
       "    <tr>\n",
       "      <th>2010-07-07 00:00:00-04:00</th>\n",
       "      <td>1024.00</td>\n",
       "      <td>1059.75</td>\n",
       "      <td>1016.25</td>\n",
       "      <td>1059.25</td>\n",
       "      <td>2556140</td>\n",
       "      <td>2.990508e+06</td>\n",
       "      <td>4987782</td>\n",
       "      <td>0.599567</td>\n",
       "      <td>8.946490e+07</td>\n",
       "      <td>29568.509550</td>\n",
       "      <td>...</td>\n",
       "      <td>0.271904</td>\n",
       "      <td>0.054381</td>\n",
       "      <td>0.217523</td>\n",
       "      <td>0.406883</td>\n",
       "      <td>0.081377</td>\n",
       "      <td>0.325507</td>\n",
       "      <td>1038.805197</td>\n",
       "      <td>3.417134</td>\n",
       "      <td>3.360047</td>\n",
       "      <td>3.417134</td>\n",
       "    </tr>\n",
       "    <tr>\n",
       "      <th>2010-07-08 00:00:00-04:00</th>\n",
       "      <td>1058.75</td>\n",
       "      <td>1068.50</td>\n",
       "      <td>1054.00</td>\n",
       "      <td>1067.00</td>\n",
       "      <td>2112208</td>\n",
       "      <td>4.665708e+06</td>\n",
       "      <td>7099990</td>\n",
       "      <td>0.657143</td>\n",
       "      <td>7.902272e+07</td>\n",
       "      <td>15960.786059</td>\n",
       "      <td>...</td>\n",
       "      <td>0.540477</td>\n",
       "      <td>0.151600</td>\n",
       "      <td>0.388877</td>\n",
       "      <td>-0.737177</td>\n",
       "      <td>-0.082334</td>\n",
       "      <td>-0.654843</td>\n",
       "      <td>1050.277718</td>\n",
       "      <td>0.731650</td>\n",
       "      <td>0.728986</td>\n",
       "      <td>4.173786</td>\n",
       "    </tr>\n",
       "    <tr>\n",
       "      <th>2010-07-09 00:00:00-04:00</th>\n",
       "      <td>1066.75</td>\n",
       "      <td>1075.00</td>\n",
       "      <td>1063.25</td>\n",
       "      <td>1072.50</td>\n",
       "      <td>1421814</td>\n",
       "      <td>5.482495e+06</td>\n",
       "      <td>8521804</td>\n",
       "      <td>0.643349</td>\n",
       "      <td>6.885090e+07</td>\n",
       "      <td>6507.971507</td>\n",
       "      <td>...</td>\n",
       "      <td>0.785546</td>\n",
       "      <td>0.278389</td>\n",
       "      <td>0.507157</td>\n",
       "      <td>-4.030289</td>\n",
       "      <td>-0.871925</td>\n",
       "      <td>-3.158364</td>\n",
       "      <td>1059.338290</td>\n",
       "      <td>0.515464</td>\n",
       "      <td>0.514140</td>\n",
       "      <td>4.710764</td>\n",
       "    </tr>\n",
       "    <tr>\n",
       "      <th>2010-07-12 00:00:00-04:00</th>\n",
       "      <td>1071.50</td>\n",
       "      <td>1077.25</td>\n",
       "      <td>1065.50</td>\n",
       "      <td>1076.50</td>\n",
       "      <td>1382638</td>\n",
       "      <td>6.688626e+06</td>\n",
       "      <td>9904442</td>\n",
       "      <td>0.675316</td>\n",
       "      <td>5.980513e+07</td>\n",
       "      <td>1912.105699</td>\n",
       "      <td>...</td>\n",
       "      <td>0.997672</td>\n",
       "      <td>0.422246</td>\n",
       "      <td>0.575426</td>\n",
       "      <td>-6.888796</td>\n",
       "      <td>-2.075299</td>\n",
       "      <td>-4.813497</td>\n",
       "      <td>1066.176852</td>\n",
       "      <td>0.372960</td>\n",
       "      <td>0.372267</td>\n",
       "      <td>5.101294</td>\n",
       "    </tr>\n",
       "  </tbody>\n",
       "</table>\n",
       "<p>5 rows × 91 columns</p>\n",
       "</div>"
      ],
      "text/plain": [
       "                              Open     High      Low    Close   Volume  \\\n",
       "Date                                                                     \n",
       "2010-07-06 00:00:00-04:00  1015.00  1038.50  1002.75  1024.25  2431642   \n",
       "2010-07-07 00:00:00-04:00  1024.00  1059.75  1016.25  1059.25  2556140   \n",
       "2010-07-08 00:00:00-04:00  1058.75  1068.50  1054.00  1067.00  2112208   \n",
       "2010-07-09 00:00:00-04:00  1066.75  1075.00  1063.25  1072.50  1421814   \n",
       "2010-07-12 00:00:00-04:00  1071.50  1077.25  1065.50  1076.50  1382638   \n",
       "\n",
       "                             volume_adi  volume_obv  volume_cmf     volume_fi  \\\n",
       "Date                                                                            \n",
       "2010-07-06 00:00:00-04:00  4.931302e+05     2431642    0.202797  0.000000e+00   \n",
       "2010-07-07 00:00:00-04:00  2.990508e+06     4987782    0.599567  8.946490e+07   \n",
       "2010-07-08 00:00:00-04:00  4.665708e+06     7099990    0.657143  7.902272e+07   \n",
       "2010-07-09 00:00:00-04:00  5.482495e+06     8521804    0.643349  6.885090e+07   \n",
       "2010-07-12 00:00:00-04:00  6.688626e+06     9904442    0.675316  5.980513e+07   \n",
       "\n",
       "                              volume_em  ...  momentum_ppo  \\\n",
       "Date                                     ...                 \n",
       "2010-07-06 00:00:00-04:00      0.000000  ...      0.000000   \n",
       "2010-07-07 00:00:00-04:00  29568.509550  ...      0.271904   \n",
       "2010-07-08 00:00:00-04:00  15960.786059  ...      0.540477   \n",
       "2010-07-09 00:00:00-04:00   6507.971507  ...      0.785546   \n",
       "2010-07-12 00:00:00-04:00   1912.105699  ...      0.997672   \n",
       "\n",
       "                           momentum_ppo_signal  momentum_ppo_hist  \\\n",
       "Date                                                                \n",
       "2010-07-06 00:00:00-04:00             0.000000           0.000000   \n",
       "2010-07-07 00:00:00-04:00             0.054381           0.217523   \n",
       "2010-07-08 00:00:00-04:00             0.151600           0.388877   \n",
       "2010-07-09 00:00:00-04:00             0.278389           0.507157   \n",
       "2010-07-12 00:00:00-04:00             0.422246           0.575426   \n",
       "\n",
       "                           momentum_pvo  momentum_pvo_signal  \\\n",
       "Date                                                           \n",
       "2010-07-06 00:00:00-04:00      0.000000             0.000000   \n",
       "2010-07-07 00:00:00-04:00      0.406883             0.081377   \n",
       "2010-07-08 00:00:00-04:00     -0.737177            -0.082334   \n",
       "2010-07-09 00:00:00-04:00     -4.030289            -0.871925   \n",
       "2010-07-12 00:00:00-04:00     -6.888796            -2.075299   \n",
       "\n",
       "                           momentum_pvo_hist  momentum_kama  others_dr  \\\n",
       "Date                                                                     \n",
       "2010-07-06 00:00:00-04:00           0.000000    1024.250000 -59.273366   \n",
       "2010-07-07 00:00:00-04:00           0.325507    1038.805197   3.417134   \n",
       "2010-07-08 00:00:00-04:00          -0.654843    1050.277718   0.731650   \n",
       "2010-07-09 00:00:00-04:00          -3.158364    1059.338290   0.515464   \n",
       "2010-07-12 00:00:00-04:00          -4.813497    1066.176852   0.372960   \n",
       "\n",
       "                           others_dlr  others_cr  \n",
       "Date                                              \n",
       "2010-07-06 00:00:00-04:00    0.000000   0.000000  \n",
       "2010-07-07 00:00:00-04:00    3.360047   3.417134  \n",
       "2010-07-08 00:00:00-04:00    0.728986   4.173786  \n",
       "2010-07-09 00:00:00-04:00    0.514140   4.710764  \n",
       "2010-07-12 00:00:00-04:00    0.372267   5.101294  \n",
       "\n",
       "[5 rows x 91 columns]"
      ]
     },
     "execution_count": 6,
     "metadata": {},
     "output_type": "execute_result"
    }
   ],
   "source": [
    "#adding all technical features from ta library\n",
    "df_ = add_all_ta_features(df, open=\"Open\", high=\"High\", low=\"Low\", close=\"Close\", volume=\"Volume\", fillna=True)\n",
    "# looking at new df\n",
    "df_.head()"
   ]
  },
  {
   "cell_type": "markdown",
   "id": "96a9a346",
   "metadata": {
    "id": "96a9a346"
   },
   "source": [
    "## Features engineering"
   ]
  },
  {
   "cell_type": "markdown",
   "id": "cbce9871",
   "metadata": {
    "id": "cbce9871"
   },
   "source": [
    "Some of the columns may be also considered as a non-stationary data. So let's find out how many are them using adfuller."
   ]
  },
  {
   "cell_type": "code",
   "execution_count": 7,
   "id": "b70fb455",
   "metadata": {
    "colab": {
     "base_uri": "https://localhost:8080/"
    },
    "id": "b70fb455",
    "outputId": "bad7a526-35a8-498b-e6db-93f24ad0ef59"
   },
   "outputs": [
    {
     "name": "stdout",
     "output_type": "stream",
     "text": [
      "Non-Stationary Features Found: 31\n"
     ]
    }
   ],
   "source": [
    "# Identify non-stationary columns\n",
    "non_stationaries = []\n",
    "for col in df_.columns:\n",
    "    dftest = adfuller(df_[col].values)\n",
    "    p_value = dftest[1]\n",
    "    t_test = dftest[0] < dftest[4][\"1%\"]\n",
    "    if p_value > 0.05 or not t_test:\n",
    "        non_stationaries.append(col)\n",
    "print(f\"Non-Stationary Features Found: {len(non_stationaries)}\")"
   ]
  },
  {
   "cell_type": "markdown",
   "id": "894862ab",
   "metadata": {
    "id": "894862ab"
   },
   "source": [
    "There is 91 features and 31 of them are non-stationary. Let's change them to stationary with .pct_change() method."
   ]
  },
  {
   "cell_type": "code",
   "execution_count": 8,
   "id": "e16ae624",
   "metadata": {
    "colab": {
     "base_uri": "https://localhost:8080/",
     "height": 591
    },
    "id": "e16ae624",
    "outputId": "7b799485-57ff-454c-e2be-6bed2eace26e",
    "scrolled": false
   },
   "outputs": [
    {
     "data": {
      "text/html": [
       "<div>\n",
       "<style scoped>\n",
       "    .dataframe tbody tr th:only-of-type {\n",
       "        vertical-align: middle;\n",
       "    }\n",
       "\n",
       "    .dataframe tbody tr th {\n",
       "        vertical-align: top;\n",
       "    }\n",
       "\n",
       "    .dataframe thead th {\n",
       "        text-align: right;\n",
       "    }\n",
       "</style>\n",
       "<table border=\"1\" class=\"dataframe\">\n",
       "  <thead>\n",
       "    <tr style=\"text-align: right;\">\n",
       "      <th></th>\n",
       "      <th>Open</th>\n",
       "      <th>High</th>\n",
       "      <th>Low</th>\n",
       "      <th>Close</th>\n",
       "      <th>Volume</th>\n",
       "      <th>volume_adi</th>\n",
       "      <th>volume_obv</th>\n",
       "      <th>volume_cmf</th>\n",
       "      <th>volume_fi</th>\n",
       "      <th>volume_em</th>\n",
       "      <th>...</th>\n",
       "      <th>momentum_ppo</th>\n",
       "      <th>momentum_ppo_signal</th>\n",
       "      <th>momentum_ppo_hist</th>\n",
       "      <th>momentum_pvo</th>\n",
       "      <th>momentum_pvo_signal</th>\n",
       "      <th>momentum_pvo_hist</th>\n",
       "      <th>momentum_kama</th>\n",
       "      <th>others_dr</th>\n",
       "      <th>others_dlr</th>\n",
       "      <th>others_cr</th>\n",
       "    </tr>\n",
       "    <tr>\n",
       "      <th>Date</th>\n",
       "      <th></th>\n",
       "      <th></th>\n",
       "      <th></th>\n",
       "      <th></th>\n",
       "      <th></th>\n",
       "      <th></th>\n",
       "      <th></th>\n",
       "      <th></th>\n",
       "      <th></th>\n",
       "      <th></th>\n",
       "      <th></th>\n",
       "      <th></th>\n",
       "      <th></th>\n",
       "      <th></th>\n",
       "      <th></th>\n",
       "      <th></th>\n",
       "      <th></th>\n",
       "      <th></th>\n",
       "      <th></th>\n",
       "      <th></th>\n",
       "      <th></th>\n",
       "    </tr>\n",
       "  </thead>\n",
       "  <tbody>\n",
       "    <tr>\n",
       "      <th>2010-07-07 00:00:00-04:00</th>\n",
       "      <td>0.008867</td>\n",
       "      <td>0.020462</td>\n",
       "      <td>0.013463</td>\n",
       "      <td>0.034171</td>\n",
       "      <td>2556140</td>\n",
       "      <td>5.064338</td>\n",
       "      <td>1.051199</td>\n",
       "      <td>0.599567</td>\n",
       "      <td>8.946490e+07</td>\n",
       "      <td>29568.509550</td>\n",
       "      <td>...</td>\n",
       "      <td>0.271904</td>\n",
       "      <td>0.054381</td>\n",
       "      <td>0.217523</td>\n",
       "      <td>0.406883</td>\n",
       "      <td>0.081377</td>\n",
       "      <td>0.325507</td>\n",
       "      <td>0.014211</td>\n",
       "      <td>3.417134</td>\n",
       "      <td>3.360047</td>\n",
       "      <td>inf</td>\n",
       "    </tr>\n",
       "    <tr>\n",
       "      <th>2010-07-08 00:00:00-04:00</th>\n",
       "      <td>0.033936</td>\n",
       "      <td>0.008257</td>\n",
       "      <td>0.037146</td>\n",
       "      <td>0.007316</td>\n",
       "      <td>2112208</td>\n",
       "      <td>0.560172</td>\n",
       "      <td>0.423476</td>\n",
       "      <td>0.657143</td>\n",
       "      <td>7.902272e+07</td>\n",
       "      <td>15960.786059</td>\n",
       "      <td>...</td>\n",
       "      <td>0.540477</td>\n",
       "      <td>0.151600</td>\n",
       "      <td>0.388877</td>\n",
       "      <td>-0.737177</td>\n",
       "      <td>-0.082334</td>\n",
       "      <td>-0.654843</td>\n",
       "      <td>0.011044</td>\n",
       "      <td>0.731650</td>\n",
       "      <td>0.728986</td>\n",
       "      <td>0.221429</td>\n",
       "    </tr>\n",
       "    <tr>\n",
       "      <th>2010-07-09 00:00:00-04:00</th>\n",
       "      <td>0.007556</td>\n",
       "      <td>0.006083</td>\n",
       "      <td>0.008776</td>\n",
       "      <td>0.005155</td>\n",
       "      <td>1421814</td>\n",
       "      <td>0.175062</td>\n",
       "      <td>0.200256</td>\n",
       "      <td>0.643349</td>\n",
       "      <td>6.885090e+07</td>\n",
       "      <td>6507.971507</td>\n",
       "      <td>...</td>\n",
       "      <td>0.785546</td>\n",
       "      <td>0.278389</td>\n",
       "      <td>0.507157</td>\n",
       "      <td>-4.030289</td>\n",
       "      <td>-0.871925</td>\n",
       "      <td>-3.158364</td>\n",
       "      <td>0.008627</td>\n",
       "      <td>0.515464</td>\n",
       "      <td>0.514140</td>\n",
       "      <td>0.128655</td>\n",
       "    </tr>\n",
       "    <tr>\n",
       "      <th>2010-07-12 00:00:00-04:00</th>\n",
       "      <td>0.004453</td>\n",
       "      <td>0.002093</td>\n",
       "      <td>0.002116</td>\n",
       "      <td>0.003730</td>\n",
       "      <td>1382638</td>\n",
       "      <td>0.219997</td>\n",
       "      <td>0.162247</td>\n",
       "      <td>0.675316</td>\n",
       "      <td>5.980513e+07</td>\n",
       "      <td>1912.105699</td>\n",
       "      <td>...</td>\n",
       "      <td>0.997672</td>\n",
       "      <td>0.422246</td>\n",
       "      <td>0.575426</td>\n",
       "      <td>-6.888796</td>\n",
       "      <td>-2.075299</td>\n",
       "      <td>-4.813497</td>\n",
       "      <td>0.006456</td>\n",
       "      <td>0.372960</td>\n",
       "      <td>0.372267</td>\n",
       "      <td>0.082902</td>\n",
       "    </tr>\n",
       "    <tr>\n",
       "      <th>2010-07-13 00:00:00-04:00</th>\n",
       "      <td>0.004200</td>\n",
       "      <td>0.017405</td>\n",
       "      <td>0.007039</td>\n",
       "      <td>0.012308</td>\n",
       "      <td>2001017</td>\n",
       "      <td>0.136576</td>\n",
       "      <td>0.202032</td>\n",
       "      <td>0.638542</td>\n",
       "      <td>5.504918e+07</td>\n",
       "      <td>15086.078729</td>\n",
       "      <td>...</td>\n",
       "      <td>1.251627</td>\n",
       "      <td>0.588122</td>\n",
       "      <td>0.663505</td>\n",
       "      <td>-6.839909</td>\n",
       "      <td>-3.028221</td>\n",
       "      <td>-3.811688</td>\n",
       "      <td>0.008600</td>\n",
       "      <td>1.230841</td>\n",
       "      <td>1.223327</td>\n",
       "      <td>0.253589</td>\n",
       "    </tr>\n",
       "  </tbody>\n",
       "</table>\n",
       "<p>5 rows × 91 columns</p>\n",
       "</div>"
      ],
      "text/plain": [
       "                               Open      High       Low     Close   Volume  \\\n",
       "Date                                                                         \n",
       "2010-07-07 00:00:00-04:00  0.008867  0.020462  0.013463  0.034171  2556140   \n",
       "2010-07-08 00:00:00-04:00  0.033936  0.008257  0.037146  0.007316  2112208   \n",
       "2010-07-09 00:00:00-04:00  0.007556  0.006083  0.008776  0.005155  1421814   \n",
       "2010-07-12 00:00:00-04:00  0.004453  0.002093  0.002116  0.003730  1382638   \n",
       "2010-07-13 00:00:00-04:00  0.004200  0.017405  0.007039  0.012308  2001017   \n",
       "\n",
       "                           volume_adi  volume_obv  volume_cmf     volume_fi  \\\n",
       "Date                                                                          \n",
       "2010-07-07 00:00:00-04:00    5.064338    1.051199    0.599567  8.946490e+07   \n",
       "2010-07-08 00:00:00-04:00    0.560172    0.423476    0.657143  7.902272e+07   \n",
       "2010-07-09 00:00:00-04:00    0.175062    0.200256    0.643349  6.885090e+07   \n",
       "2010-07-12 00:00:00-04:00    0.219997    0.162247    0.675316  5.980513e+07   \n",
       "2010-07-13 00:00:00-04:00    0.136576    0.202032    0.638542  5.504918e+07   \n",
       "\n",
       "                              volume_em  ...  momentum_ppo  \\\n",
       "Date                                     ...                 \n",
       "2010-07-07 00:00:00-04:00  29568.509550  ...      0.271904   \n",
       "2010-07-08 00:00:00-04:00  15960.786059  ...      0.540477   \n",
       "2010-07-09 00:00:00-04:00   6507.971507  ...      0.785546   \n",
       "2010-07-12 00:00:00-04:00   1912.105699  ...      0.997672   \n",
       "2010-07-13 00:00:00-04:00  15086.078729  ...      1.251627   \n",
       "\n",
       "                           momentum_ppo_signal  momentum_ppo_hist  \\\n",
       "Date                                                                \n",
       "2010-07-07 00:00:00-04:00             0.054381           0.217523   \n",
       "2010-07-08 00:00:00-04:00             0.151600           0.388877   \n",
       "2010-07-09 00:00:00-04:00             0.278389           0.507157   \n",
       "2010-07-12 00:00:00-04:00             0.422246           0.575426   \n",
       "2010-07-13 00:00:00-04:00             0.588122           0.663505   \n",
       "\n",
       "                           momentum_pvo  momentum_pvo_signal  \\\n",
       "Date                                                           \n",
       "2010-07-07 00:00:00-04:00      0.406883             0.081377   \n",
       "2010-07-08 00:00:00-04:00     -0.737177            -0.082334   \n",
       "2010-07-09 00:00:00-04:00     -4.030289            -0.871925   \n",
       "2010-07-12 00:00:00-04:00     -6.888796            -2.075299   \n",
       "2010-07-13 00:00:00-04:00     -6.839909            -3.028221   \n",
       "\n",
       "                           momentum_pvo_hist  momentum_kama  others_dr  \\\n",
       "Date                                                                     \n",
       "2010-07-07 00:00:00-04:00           0.325507       0.014211   3.417134   \n",
       "2010-07-08 00:00:00-04:00          -0.654843       0.011044   0.731650   \n",
       "2010-07-09 00:00:00-04:00          -3.158364       0.008627   0.515464   \n",
       "2010-07-12 00:00:00-04:00          -4.813497       0.006456   0.372960   \n",
       "2010-07-13 00:00:00-04:00          -3.811688       0.008600   1.230841   \n",
       "\n",
       "                           others_dlr  others_cr  \n",
       "Date                                              \n",
       "2010-07-07 00:00:00-04:00    3.360047        inf  \n",
       "2010-07-08 00:00:00-04:00    0.728986   0.221429  \n",
       "2010-07-09 00:00:00-04:00    0.514140   0.128655  \n",
       "2010-07-12 00:00:00-04:00    0.372267   0.082902  \n",
       "2010-07-13 00:00:00-04:00    1.223327   0.253589  \n",
       "\n",
       "[5 rows x 91 columns]"
      ]
     },
     "execution_count": 8,
     "metadata": {},
     "output_type": "execute_result"
    }
   ],
   "source": [
    "# Convert non-stationaries to stationary\n",
    "df_stationary = df_.copy()\n",
    "df_stationary[non_stationaries] = df_stationary[non_stationaries].pct_change()\n",
    "# Lets start from second row, becouse first one is full of NaNs\n",
    "df_stationary = df_stationary.iloc[1:]\n",
    "# take a look at our data\n",
    "df_stationary.head()"
   ]
  },
  {
   "cell_type": "markdown",
   "id": "565c8701",
   "metadata": {
    "id": "565c8701"
   },
   "source": [
    "Some of these columns may have NaN values or infinity (inf/-inf). Let's clean our data set."
   ]
  },
  {
   "cell_type": "code",
   "execution_count": 9,
   "id": "c3896af3",
   "metadata": {
    "colab": {
     "base_uri": "https://localhost:8080/",
     "height": 591
    },
    "id": "c3896af3",
    "outputId": "09195c82-f1cf-4671-a474-ba7cc3f9909f"
   },
   "outputs": [
    {
     "data": {
      "text/html": [
       "<div>\n",
       "<style scoped>\n",
       "    .dataframe tbody tr th:only-of-type {\n",
       "        vertical-align: middle;\n",
       "    }\n",
       "\n",
       "    .dataframe tbody tr th {\n",
       "        vertical-align: top;\n",
       "    }\n",
       "\n",
       "    .dataframe thead th {\n",
       "        text-align: right;\n",
       "    }\n",
       "</style>\n",
       "<table border=\"1\" class=\"dataframe\">\n",
       "  <thead>\n",
       "    <tr style=\"text-align: right;\">\n",
       "      <th></th>\n",
       "      <th>Open</th>\n",
       "      <th>High</th>\n",
       "      <th>Low</th>\n",
       "      <th>Close</th>\n",
       "      <th>Volume</th>\n",
       "      <th>volume_adi</th>\n",
       "      <th>volume_obv</th>\n",
       "      <th>volume_cmf</th>\n",
       "      <th>volume_fi</th>\n",
       "      <th>volume_em</th>\n",
       "      <th>...</th>\n",
       "      <th>momentum_ppo</th>\n",
       "      <th>momentum_ppo_signal</th>\n",
       "      <th>momentum_ppo_hist</th>\n",
       "      <th>momentum_pvo</th>\n",
       "      <th>momentum_pvo_signal</th>\n",
       "      <th>momentum_pvo_hist</th>\n",
       "      <th>momentum_kama</th>\n",
       "      <th>others_dr</th>\n",
       "      <th>others_dlr</th>\n",
       "      <th>others_cr</th>\n",
       "    </tr>\n",
       "    <tr>\n",
       "      <th>Date</th>\n",
       "      <th></th>\n",
       "      <th></th>\n",
       "      <th></th>\n",
       "      <th></th>\n",
       "      <th></th>\n",
       "      <th></th>\n",
       "      <th></th>\n",
       "      <th></th>\n",
       "      <th></th>\n",
       "      <th></th>\n",
       "      <th></th>\n",
       "      <th></th>\n",
       "      <th></th>\n",
       "      <th></th>\n",
       "      <th></th>\n",
       "      <th></th>\n",
       "      <th></th>\n",
       "      <th></th>\n",
       "      <th></th>\n",
       "      <th></th>\n",
       "      <th></th>\n",
       "    </tr>\n",
       "  </thead>\n",
       "  <tbody>\n",
       "    <tr>\n",
       "      <th>2010-07-07 00:00:00-04:00</th>\n",
       "      <td>0.008867</td>\n",
       "      <td>0.020462</td>\n",
       "      <td>0.013463</td>\n",
       "      <td>0.034171</td>\n",
       "      <td>2556140</td>\n",
       "      <td>5.064338</td>\n",
       "      <td>1.051199</td>\n",
       "      <td>0.599567</td>\n",
       "      <td>8.946490e+07</td>\n",
       "      <td>29568.509550</td>\n",
       "      <td>...</td>\n",
       "      <td>0.271904</td>\n",
       "      <td>0.054381</td>\n",
       "      <td>0.217523</td>\n",
       "      <td>0.406883</td>\n",
       "      <td>0.081377</td>\n",
       "      <td>0.325507</td>\n",
       "      <td>0.014211</td>\n",
       "      <td>3.417134</td>\n",
       "      <td>3.360047</td>\n",
       "      <td>0.000000</td>\n",
       "    </tr>\n",
       "    <tr>\n",
       "      <th>2010-07-08 00:00:00-04:00</th>\n",
       "      <td>0.033936</td>\n",
       "      <td>0.008257</td>\n",
       "      <td>0.037146</td>\n",
       "      <td>0.007316</td>\n",
       "      <td>2112208</td>\n",
       "      <td>0.560172</td>\n",
       "      <td>0.423476</td>\n",
       "      <td>0.657143</td>\n",
       "      <td>7.902272e+07</td>\n",
       "      <td>15960.786059</td>\n",
       "      <td>...</td>\n",
       "      <td>0.540477</td>\n",
       "      <td>0.151600</td>\n",
       "      <td>0.388877</td>\n",
       "      <td>-0.737177</td>\n",
       "      <td>-0.082334</td>\n",
       "      <td>-0.654843</td>\n",
       "      <td>0.011044</td>\n",
       "      <td>0.731650</td>\n",
       "      <td>0.728986</td>\n",
       "      <td>0.221429</td>\n",
       "    </tr>\n",
       "    <tr>\n",
       "      <th>2010-07-09 00:00:00-04:00</th>\n",
       "      <td>0.007556</td>\n",
       "      <td>0.006083</td>\n",
       "      <td>0.008776</td>\n",
       "      <td>0.005155</td>\n",
       "      <td>1421814</td>\n",
       "      <td>0.175062</td>\n",
       "      <td>0.200256</td>\n",
       "      <td>0.643349</td>\n",
       "      <td>6.885090e+07</td>\n",
       "      <td>6507.971507</td>\n",
       "      <td>...</td>\n",
       "      <td>0.785546</td>\n",
       "      <td>0.278389</td>\n",
       "      <td>0.507157</td>\n",
       "      <td>-4.030289</td>\n",
       "      <td>-0.871925</td>\n",
       "      <td>-3.158364</td>\n",
       "      <td>0.008627</td>\n",
       "      <td>0.515464</td>\n",
       "      <td>0.514140</td>\n",
       "      <td>0.128655</td>\n",
       "    </tr>\n",
       "    <tr>\n",
       "      <th>2010-07-12 00:00:00-04:00</th>\n",
       "      <td>0.004453</td>\n",
       "      <td>0.002093</td>\n",
       "      <td>0.002116</td>\n",
       "      <td>0.003730</td>\n",
       "      <td>1382638</td>\n",
       "      <td>0.219997</td>\n",
       "      <td>0.162247</td>\n",
       "      <td>0.675316</td>\n",
       "      <td>5.980513e+07</td>\n",
       "      <td>1912.105699</td>\n",
       "      <td>...</td>\n",
       "      <td>0.997672</td>\n",
       "      <td>0.422246</td>\n",
       "      <td>0.575426</td>\n",
       "      <td>-6.888796</td>\n",
       "      <td>-2.075299</td>\n",
       "      <td>-4.813497</td>\n",
       "      <td>0.006456</td>\n",
       "      <td>0.372960</td>\n",
       "      <td>0.372267</td>\n",
       "      <td>0.082902</td>\n",
       "    </tr>\n",
       "    <tr>\n",
       "      <th>2010-07-13 00:00:00-04:00</th>\n",
       "      <td>0.004200</td>\n",
       "      <td>0.017405</td>\n",
       "      <td>0.007039</td>\n",
       "      <td>0.012308</td>\n",
       "      <td>2001017</td>\n",
       "      <td>0.136576</td>\n",
       "      <td>0.202032</td>\n",
       "      <td>0.638542</td>\n",
       "      <td>5.504918e+07</td>\n",
       "      <td>15086.078729</td>\n",
       "      <td>...</td>\n",
       "      <td>1.251627</td>\n",
       "      <td>0.588122</td>\n",
       "      <td>0.663505</td>\n",
       "      <td>-6.839909</td>\n",
       "      <td>-3.028221</td>\n",
       "      <td>-3.811688</td>\n",
       "      <td>0.008600</td>\n",
       "      <td>1.230841</td>\n",
       "      <td>1.223327</td>\n",
       "      <td>0.253589</td>\n",
       "    </tr>\n",
       "  </tbody>\n",
       "</table>\n",
       "<p>5 rows × 91 columns</p>\n",
       "</div>"
      ],
      "text/plain": [
       "                               Open      High       Low     Close   Volume  \\\n",
       "Date                                                                         \n",
       "2010-07-07 00:00:00-04:00  0.008867  0.020462  0.013463  0.034171  2556140   \n",
       "2010-07-08 00:00:00-04:00  0.033936  0.008257  0.037146  0.007316  2112208   \n",
       "2010-07-09 00:00:00-04:00  0.007556  0.006083  0.008776  0.005155  1421814   \n",
       "2010-07-12 00:00:00-04:00  0.004453  0.002093  0.002116  0.003730  1382638   \n",
       "2010-07-13 00:00:00-04:00  0.004200  0.017405  0.007039  0.012308  2001017   \n",
       "\n",
       "                           volume_adi  volume_obv  volume_cmf     volume_fi  \\\n",
       "Date                                                                          \n",
       "2010-07-07 00:00:00-04:00    5.064338    1.051199    0.599567  8.946490e+07   \n",
       "2010-07-08 00:00:00-04:00    0.560172    0.423476    0.657143  7.902272e+07   \n",
       "2010-07-09 00:00:00-04:00    0.175062    0.200256    0.643349  6.885090e+07   \n",
       "2010-07-12 00:00:00-04:00    0.219997    0.162247    0.675316  5.980513e+07   \n",
       "2010-07-13 00:00:00-04:00    0.136576    0.202032    0.638542  5.504918e+07   \n",
       "\n",
       "                              volume_em  ...  momentum_ppo  \\\n",
       "Date                                     ...                 \n",
       "2010-07-07 00:00:00-04:00  29568.509550  ...      0.271904   \n",
       "2010-07-08 00:00:00-04:00  15960.786059  ...      0.540477   \n",
       "2010-07-09 00:00:00-04:00   6507.971507  ...      0.785546   \n",
       "2010-07-12 00:00:00-04:00   1912.105699  ...      0.997672   \n",
       "2010-07-13 00:00:00-04:00  15086.078729  ...      1.251627   \n",
       "\n",
       "                           momentum_ppo_signal  momentum_ppo_hist  \\\n",
       "Date                                                                \n",
       "2010-07-07 00:00:00-04:00             0.054381           0.217523   \n",
       "2010-07-08 00:00:00-04:00             0.151600           0.388877   \n",
       "2010-07-09 00:00:00-04:00             0.278389           0.507157   \n",
       "2010-07-12 00:00:00-04:00             0.422246           0.575426   \n",
       "2010-07-13 00:00:00-04:00             0.588122           0.663505   \n",
       "\n",
       "                           momentum_pvo  momentum_pvo_signal  \\\n",
       "Date                                                           \n",
       "2010-07-07 00:00:00-04:00      0.406883             0.081377   \n",
       "2010-07-08 00:00:00-04:00     -0.737177            -0.082334   \n",
       "2010-07-09 00:00:00-04:00     -4.030289            -0.871925   \n",
       "2010-07-12 00:00:00-04:00     -6.888796            -2.075299   \n",
       "2010-07-13 00:00:00-04:00     -6.839909            -3.028221   \n",
       "\n",
       "                           momentum_pvo_hist  momentum_kama  others_dr  \\\n",
       "Date                                                                     \n",
       "2010-07-07 00:00:00-04:00           0.325507       0.014211   3.417134   \n",
       "2010-07-08 00:00:00-04:00          -0.654843       0.011044   0.731650   \n",
       "2010-07-09 00:00:00-04:00          -3.158364       0.008627   0.515464   \n",
       "2010-07-12 00:00:00-04:00          -4.813497       0.006456   0.372960   \n",
       "2010-07-13 00:00:00-04:00          -3.811688       0.008600   1.230841   \n",
       "\n",
       "                           others_dlr  others_cr  \n",
       "Date                                              \n",
       "2010-07-07 00:00:00-04:00    3.360047   0.000000  \n",
       "2010-07-08 00:00:00-04:00    0.728986   0.221429  \n",
       "2010-07-09 00:00:00-04:00    0.514140   0.128655  \n",
       "2010-07-12 00:00:00-04:00    0.372267   0.082902  \n",
       "2010-07-13 00:00:00-04:00    1.223327   0.253589  \n",
       "\n",
       "[5 rows x 91 columns]"
      ]
     },
     "execution_count": 9,
     "metadata": {},
     "output_type": "execute_result"
    }
   ],
   "source": [
    "# Find NaN Rows\n",
    "na_list = df_stationary.columns[df_stationary.isna().any().tolist()]\n",
    "df_stationary.drop(columns=na_list, inplace=True)\n",
    "# Handle inf values\n",
    "df_stationary.replace([np.inf, -np.inf], 0, inplace=True)\n",
    "df_stationary.head()"
   ]
  },
  {
   "cell_type": "markdown",
   "id": "840e31ee",
   "metadata": {
    "id": "840e31ee"
   },
   "source": [
    "Now when data are stationary and 'Close' is actually return values -  let's check how it looks"
   ]
  },
  {
   "cell_type": "code",
   "execution_count": 10,
   "id": "23c9ae99",
   "metadata": {
    "colab": {
     "base_uri": "https://localhost:8080/",
     "height": 472
    },
    "id": "23c9ae99",
    "outputId": "0fbd424f-8190-4584-99cf-0e0498d80e9d"
   },
   "outputs": [
    {
     "data": {
      "image/png": "[encoded data removed]",
      "text/plain": [
       "<Figure size 640x480 with 1 Axes>"
      ]
     },
     "metadata": {},
     "output_type": "display_data"
    }
   ],
   "source": [
    "df_stationary['Close'].hist(bins=100, grid=False, color='blue', alpha=0.7)\n",
    "plt.title('Histogram of SP500 return prices')\n",
    "plt.xlabel('Value')\n",
    "plt.ylabel('Frequency')\n",
    "plt.show()"
   ]
  },
  {
   "cell_type": "markdown",
   "id": "f8cbdd12",
   "metadata": {
    "id": "f8cbdd12"
   },
   "source": [
    "Now when return price has normal distribution shape, let's set our targets"
   ]
  },
  {
   "cell_type": "code",
   "execution_count": 11,
   "id": "f98d7165",
   "metadata": {
    "id": "f98d7165"
   },
   "outputs": [],
   "source": [
    "first_quantile = df_stationary['Close'].quantile(0.25) # significant down move\n",
    "last_quantile = df_stationary['Close'].quantile(0.75) # significant upper move"
   ]
  },
  {
   "cell_type": "code",
   "execution_count": 12,
   "id": "04d8cdca",
   "metadata": {
    "colab": {
     "base_uri": "https://localhost:8080/",
     "height": 472
    },
    "id": "04d8cdca",
    "outputId": "512275c0-32e4-4b66-be75-4c9a4359a44d"
   },
   "outputs": [
    {
     "data": {
      "image/png": "[encoded data removed]",
      "text/plain": [
       "<Figure size 640x480 with 1 Axes>"
      ]
     },
     "metadata": {},
     "output_type": "display_data"
    }
   ],
   "source": [
    "df_stationary['Close'].hist(bins=100, grid=False, color='blue', alpha=0.7)\n",
    "plt.axvline(first_quantile, color='green', linestyle='dashed', linewidth=2, label='1st Quantile')\n",
    "plt.axvline(last_quantile, color='red', linestyle='dashed', linewidth=2, label='Last Quantile')\n",
    "plt.title('Histogram of SP500 return prices')\n",
    "plt.xlabel('Value')\n",
    "plt.ylabel('Frequency')\n",
    "plt.legend()\n",
    "plt.show()"
   ]
  },
  {
   "cell_type": "markdown",
   "id": "5c474dfc",
   "metadata": {
    "id": "5c474dfc"
   },
   "source": [
    "Everything from green line to left, and from red line to right is considered to be significant movement."
   ]
  },
  {
   "cell_type": "markdown",
   "id": "TiMwWwd6sWFE",
   "metadata": {
    "id": "TiMwWwd6sWFE"
   },
   "source": [
    "## Setting targets"
   ]
  },
  {
   "cell_type": "code",
   "execution_count": 13,
   "id": "62c96ed8",
   "metadata": {
    "id": "62c96ed8"
   },
   "outputs": [],
   "source": [
    "#creating target column\n",
    "# (0 -> no deal)\n",
    "# (1-> short)\n",
    "# (2 -> long)\n",
    "\n",
    "df_stationary['Target'] = np.where(df_stationary['Close'] <= first_quantile, 1,\n",
    "                        np.where(df_stationary['Close'] >= last_quantile, 2, 0))\n",
    "#target is based on next day value, so we need to shift it\n",
    "df_stationary['Target'] = df_stationary['Target'].shift(-1)\n",
    "# dropping NaN from the entire DataFrame\n",
    "df_stationary.dropna(inplace=True) # droping NaN"
   ]
  },
  {
   "cell_type": "markdown",
   "id": "57e0cd35",
   "metadata": {
    "id": "57e0cd35"
   },
   "source": [
    "The closing price is the last price of the day (session). This means that for instruments for which the session has not ended, the price will be determined based on the last price. Since it will be possible to determine the rate of return only after the end of the day, the last row should be removed, since the prediction is created on the basis of the \"virtual closing price\""
   ]
  },
  {
   "cell_type": "code",
   "execution_count": 14,
   "id": "9718ae4d",
   "metadata": {
    "id": "9718ae4d"
   },
   "outputs": [],
   "source": [
    "#droping last row\n",
    "df_stationary.drop(df_stationary.tail(1).index,inplace = True)"
   ]
  },
  {
   "cell_type": "markdown",
   "id": "6f87dfc0",
   "metadata": {
    "id": "6f87dfc0"
   },
   "source": [
    "Let's split df to X (feature) and y (target)"
   ]
  },
  {
   "cell_type": "code",
   "execution_count": 15,
   "id": "67137fcc",
   "metadata": {
    "id": "67137fcc"
   },
   "outputs": [],
   "source": [
    "# droping target column from features\n",
    "X = df_stationary.drop(columns={'Target'})\n",
    "y = df_stationary['Target']"
   ]
  },
  {
   "cell_type": "markdown",
   "id": "58dbb70d",
   "metadata": {
    "id": "58dbb70d"
   },
   "source": [
    "## PCA Dimensionality Reduction"
   ]
  },
  {
   "cell_type": "markdown",
   "id": "92e6e5a3",
   "metadata": {
    "id": "92e6e5a3"
   },
   "source": [
    "There are 93 columns (quite a lot). I want to reduce them by using unsupervised ML method - PCA"
   ]
  },
  {
   "cell_type": "code",
   "execution_count": 16,
   "id": "25ffe894",
   "metadata": {
    "colab": {
     "base_uri": "https://localhost:8080/",
     "height": 314
    },
    "id": "25ffe894",
    "outputId": "47d0f30a-ce37-4c0f-cfea-4937afaebcac"
   },
   "outputs": [
    {
     "data": {
      "text/html": [
       "<div>\n",
       "<style scoped>\n",
       "    .dataframe tbody tr th:only-of-type {\n",
       "        vertical-align: middle;\n",
       "    }\n",
       "\n",
       "    .dataframe tbody tr th {\n",
       "        vertical-align: top;\n",
       "    }\n",
       "\n",
       "    .dataframe thead th {\n",
       "        text-align: right;\n",
       "    }\n",
       "</style>\n",
       "<table border=\"1\" class=\"dataframe\">\n",
       "  <thead>\n",
       "    <tr style=\"text-align: right;\">\n",
       "      <th></th>\n",
       "      <th>principal component 1</th>\n",
       "      <th>principal component 2</th>\n",
       "      <th>principal component 3</th>\n",
       "      <th>principal component 4</th>\n",
       "      <th>principal component 5</th>\n",
       "      <th>principal component 6</th>\n",
       "      <th>principal component 7</th>\n",
       "      <th>principal component 8</th>\n",
       "      <th>principal component 9</th>\n",
       "      <th>principal component 10</th>\n",
       "      <th>...</th>\n",
       "      <th>principal component 16</th>\n",
       "      <th>principal component 17</th>\n",
       "      <th>principal component 18</th>\n",
       "      <th>principal component 19</th>\n",
       "      <th>principal component 20</th>\n",
       "      <th>principal component 21</th>\n",
       "      <th>principal component 22</th>\n",
       "      <th>principal component 23</th>\n",
       "      <th>principal component 24</th>\n",
       "      <th>principal component 25</th>\n",
       "    </tr>\n",
       "  </thead>\n",
       "  <tbody>\n",
       "    <tr>\n",
       "      <th>0</th>\n",
       "      <td>-10.465526</td>\n",
       "      <td>-3.679189</td>\n",
       "      <td>-4.182339</td>\n",
       "      <td>41.247783</td>\n",
       "      <td>28.550743</td>\n",
       "      <td>19.919838</td>\n",
       "      <td>-0.962250</td>\n",
       "      <td>5.326501</td>\n",
       "      <td>-12.821412</td>\n",
       "      <td>8.858809</td>\n",
       "      <td>...</td>\n",
       "      <td>-11.805395</td>\n",
       "      <td>25.202038</td>\n",
       "      <td>7.512145</td>\n",
       "      <td>5.884778</td>\n",
       "      <td>-1.798786</td>\n",
       "      <td>0.846817</td>\n",
       "      <td>-3.104503</td>\n",
       "      <td>4.154250</td>\n",
       "      <td>-3.835109</td>\n",
       "      <td>1.570643</td>\n",
       "    </tr>\n",
       "    <tr>\n",
       "      <th>1</th>\n",
       "      <td>-8.391087</td>\n",
       "      <td>1.421138</td>\n",
       "      <td>-5.428683</td>\n",
       "      <td>24.617976</td>\n",
       "      <td>10.538223</td>\n",
       "      <td>1.018978</td>\n",
       "      <td>-6.767606</td>\n",
       "      <td>2.408270</td>\n",
       "      <td>-3.655098</td>\n",
       "      <td>-4.233522</td>\n",
       "      <td>...</td>\n",
       "      <td>-0.927735</td>\n",
       "      <td>-2.125558</td>\n",
       "      <td>-0.845778</td>\n",
       "      <td>-0.903936</td>\n",
       "      <td>-2.505188</td>\n",
       "      <td>-0.408835</td>\n",
       "      <td>-1.042199</td>\n",
       "      <td>-0.237646</td>\n",
       "      <td>0.788480</td>\n",
       "      <td>-3.523190</td>\n",
       "    </tr>\n",
       "    <tr>\n",
       "      <th>2</th>\n",
       "      <td>-6.673260</td>\n",
       "      <td>0.866132</td>\n",
       "      <td>-4.062059</td>\n",
       "      <td>22.089343</td>\n",
       "      <td>10.775429</td>\n",
       "      <td>-0.442675</td>\n",
       "      <td>-7.793248</td>\n",
       "      <td>0.913594</td>\n",
       "      <td>-2.024965</td>\n",
       "      <td>-4.162099</td>\n",
       "      <td>...</td>\n",
       "      <td>-0.081256</td>\n",
       "      <td>-4.574292</td>\n",
       "      <td>-2.185428</td>\n",
       "      <td>-1.003534</td>\n",
       "      <td>-2.231954</td>\n",
       "      <td>-0.601862</td>\n",
       "      <td>-0.774313</td>\n",
       "      <td>-1.818087</td>\n",
       "      <td>0.886698</td>\n",
       "      <td>-3.710011</td>\n",
       "    </tr>\n",
       "    <tr>\n",
       "      <th>3</th>\n",
       "      <td>-5.651384</td>\n",
       "      <td>0.260269</td>\n",
       "      <td>-2.440466</td>\n",
       "      <td>21.541434</td>\n",
       "      <td>11.098578</td>\n",
       "      <td>-0.858192</td>\n",
       "      <td>-7.979770</td>\n",
       "      <td>-0.219101</td>\n",
       "      <td>-2.099624</td>\n",
       "      <td>-3.246414</td>\n",
       "      <td>...</td>\n",
       "      <td>-0.927464</td>\n",
       "      <td>-3.107818</td>\n",
       "      <td>-1.854122</td>\n",
       "      <td>-0.944812</td>\n",
       "      <td>-2.781061</td>\n",
       "      <td>0.128262</td>\n",
       "      <td>0.155158</td>\n",
       "      <td>-1.323049</td>\n",
       "      <td>0.986501</td>\n",
       "      <td>-2.862405</td>\n",
       "    </tr>\n",
       "    <tr>\n",
       "      <th>4</th>\n",
       "      <td>-8.264994</td>\n",
       "      <td>1.252725</td>\n",
       "      <td>-5.247254</td>\n",
       "      <td>21.767947</td>\n",
       "      <td>11.191432</td>\n",
       "      <td>0.483487</td>\n",
       "      <td>-6.369863</td>\n",
       "      <td>3.650728</td>\n",
       "      <td>-3.253510</td>\n",
       "      <td>-0.750605</td>\n",
       "      <td>...</td>\n",
       "      <td>-0.443066</td>\n",
       "      <td>-4.954560</td>\n",
       "      <td>-2.379716</td>\n",
       "      <td>-2.262073</td>\n",
       "      <td>-1.630325</td>\n",
       "      <td>-0.804057</td>\n",
       "      <td>-1.325279</td>\n",
       "      <td>-2.683078</td>\n",
       "      <td>2.367427</td>\n",
       "      <td>-2.979729</td>\n",
       "    </tr>\n",
       "  </tbody>\n",
       "</table>\n",
       "<p>5 rows × 25 columns</p>\n",
       "</div>"
      ],
      "text/plain": [
       "   principal component 1  principal component 2  principal component 3  \\\n",
       "0             -10.465526              -3.679189              -4.182339   \n",
       "1              -8.391087               1.421138              -5.428683   \n",
       "2              -6.673260               0.866132              -4.062059   \n",
       "3              -5.651384               0.260269              -2.440466   \n",
       "4              -8.264994               1.252725              -5.247254   \n",
       "\n",
       "   principal component 4  principal component 5  principal component 6  \\\n",
       "0              41.247783              28.550743              19.919838   \n",
       "1              24.617976              10.538223               1.018978   \n",
       "2              22.089343              10.775429              -0.442675   \n",
       "3              21.541434              11.098578              -0.858192   \n",
       "4              21.767947              11.191432               0.483487   \n",
       "\n",
       "   principal component 7  principal component 8  principal component 9  \\\n",
       "0              -0.962250               5.326501             -12.821412   \n",
       "1              -6.767606               2.408270              -3.655098   \n",
       "2              -7.793248               0.913594              -2.024965   \n",
       "3              -7.979770              -0.219101              -2.099624   \n",
       "4              -6.369863               3.650728              -3.253510   \n",
       "\n",
       "   principal component 10  ...  principal component 16  \\\n",
       "0                8.858809  ...              -11.805395   \n",
       "1               -4.233522  ...               -0.927735   \n",
       "2               -4.162099  ...               -0.081256   \n",
       "3               -3.246414  ...               -0.927464   \n",
       "4               -0.750605  ...               -0.443066   \n",
       "\n",
       "   principal component 17  principal component 18  principal component 19  \\\n",
       "0               25.202038                7.512145                5.884778   \n",
       "1               -2.125558               -0.845778               -0.903936   \n",
       "2               -4.574292               -2.185428               -1.003534   \n",
       "3               -3.107818               -1.854122               -0.944812   \n",
       "4               -4.954560               -2.379716               -2.262073   \n",
       "\n",
       "   principal component 20  principal component 21  principal component 22  \\\n",
       "0               -1.798786                0.846817               -3.104503   \n",
       "1               -2.505188               -0.408835               -1.042199   \n",
       "2               -2.231954               -0.601862               -0.774313   \n",
       "3               -2.781061                0.128262                0.155158   \n",
       "4               -1.630325               -0.804057               -1.325279   \n",
       "\n",
       "   principal component 23  principal component 24  principal component 25  \n",
       "0                4.154250               -3.835109                1.570643  \n",
       "1               -0.237646                0.788480               -3.523190  \n",
       "2               -1.818087                0.886698               -3.710011  \n",
       "3               -1.323049                0.986501               -2.862405  \n",
       "4               -2.683078                2.367427               -2.979729  \n",
       "\n",
       "[5 rows x 25 columns]"
      ]
     },
     "execution_count": 16,
     "metadata": {},
     "output_type": "execute_result"
    }
   ],
   "source": [
    "#scaling features\n",
    "df_sd = StandardScaler().fit_transform(X)\n",
    "# PCA\n",
    "pca = PCA(0.9) # I want to find 90% of variance, and I don't know how many components it will need\n",
    "pca_result = pca.fit_transform(df_sd)\n",
    "# Convert to DataFrame\n",
    "df_pca = pd.DataFrame(data = pca_result,\n",
    "                      columns = ['principal component ' + str(i) for i in range(1, pca.n_components_+1)])\n",
    "# looking at new df_pca\n",
    "df_pca.head()"
   ]
  },
  {
   "cell_type": "markdown",
   "id": "aR8Y5b1JyUcu",
   "metadata": {
    "id": "aR8Y5b1JyUcu"
   },
   "source": [
    "## Split data and find best hyperparameters with XGB Classifier"
   ]
  },
  {
   "cell_type": "code",
   "execution_count": 17,
   "id": "3dcd5a70",
   "metadata": {
    "id": "3dcd5a70"
   },
   "outputs": [],
   "source": [
    "# split data into training and test set\n",
    "X_train, X_test, y_train, y_test = train_test_split(df_pca,\n",
    "                                                    y,\n",
    "                                                    test_size=0.2,\n",
    "                                                    stratify=y,\n",
    "                                                    random_state=42)"
   ]
  },
  {
   "cell_type": "code",
   "execution_count": 37,
   "id": "831713f5",
   "metadata": {
    "colab": {
     "base_uri": "https://localhost:8080/"
    },
    "id": "831713f5",
    "outputId": "c379d4ea-171b-4dd9-9fe8-9b34ee73a9dc"
   },
   "outputs": [
    {
     "name": "stdout",
     "output_type": "stream",
     "text": [
      "Best parameters: {'learning_rate': 0.1, 'max_depth': 1, 'n_estimators': 50, 'num_class': 2, 'objective': 'multi:softprob', 'scoring': 'f1_score', 'tree_method': 'gpu_hist', 'verbosity': 0}\n",
      "Best score: 0.5248659665680068\n"
     ]
    }
   ],
   "source": [
    "xgb = XGBClassifier()\n",
    "# define parameter grid\n",
    "param_grid = {\n",
    "    'objective':['multi:softprob','multi:softmax'],\n",
    "    'num_class':[2,3,6],\n",
    "    'learning_rate': [0.005, 0.01, 0.1, 0.2, 0.3, 0.5],\n",
    "    'max_depth': [1,2,3,5,6],\n",
    "    'n_estimators': [50, 100, 200, 300],\n",
    "    'tree_method':['gpu_hist'],\n",
    "    'scoring' : ['f1_score'],\n",
    "    'verbosity' : [0]\n",
    "}\n",
    "# create GridSearchCV object\n",
    "grid_search = GridSearchCV(estimator=xgb, param_grid=param_grid, cv=3)\n",
    "\n",
    "# fit model\n",
    "grid_search.fit(X_train, y_train)\n",
    "\n",
    "# get the best parameters\n",
    "best_params = grid_search.best_params_\n",
    "print(f\"Best parameters: {best_params}\")\n",
    "\n",
    "# get the best score\n",
    "best_score = grid_search.best_score_\n",
    "print(f\"Best score: {best_score}\")"
   ]
  },
  {
   "cell_type": "code",
   "execution_count": 38,
   "id": "Tw0VDMsMzxvx",
   "metadata": {
    "id": "Tw0VDMsMzxvx"
   },
   "outputs": [],
   "source": [
    "y_pred_grid = grid_search.predict(X_test)"
   ]
  },
  {
   "cell_type": "code",
   "execution_count": 39,
   "id": "KcPLOKjm0Qv3",
   "metadata": {
    "id": "KcPLOKjm0Qv3"
   },
   "outputs": [],
   "source": [
    "def print_metrics(y_true, y_pred, classifier_name):\n",
    "    print(classifier_name)\n",
    "    print(\"Precision:\", precision_score(y_true, y_pred_grid,average='weighted'))\n",
    "    print(\"Recall:\", recall_score(y_true, y_pred_grid,average='weighted'))\n",
    "    print(\"F1-score:\", f1_score(y_true, y_pred_grid,average='weighted'))\n",
    "    print(\"Confusion Matrix:\\n\", confusion_matrix(y_true, y_pred_grid))"
   ]
  },
  {
   "cell_type": "code",
   "execution_count": 41,
   "id": "aTsEt71706a_",
   "metadata": {
    "colab": {
     "base_uri": "https://localhost:8080/"
    },
    "id": "aTsEt71706a_",
    "outputId": "d35f25be-0054-42ce-f744-6935d98a4d28"
   },
   "outputs": [
    {
     "name": "stdout",
     "output_type": "stream",
     "text": [
      "XGB Classifier\n",
      "Precision: 0.5297836309230213\n",
      "Recall: 0.5122324159021406\n",
      "F1-score: 0.41169703335515245\n",
      "Confusion Matrix:\n",
      " [[297   1  29]\n",
      " [134   2  28]\n",
      " [127   0  36]]\n"
     ]
    }
   ],
   "source": [
    "print_metrics(y_test, y_pred_grid, \"XGB Classifier\")"
   ]
  },
  {
   "cell_type": "markdown",
   "id": "GxzXg1ObPZHM",
   "metadata": {
    "id": "GxzXg1ObPZHM"
   },
   "source": [
    "Looking at confusion matrix I can say, that model is good in predicting when to not to trade. Which can be helpful, but goal is to properly predict when to sell or trade. There is why I'm going to try another model - random forest"
   ]
  },
  {
   "cell_type": "markdown",
   "id": "vy1EHc0YPapK",
   "metadata": {
    "id": "vy1EHc0YPapK"
   },
   "source": [
    "## Random Forest"
   ]
  },
  {
   "cell_type": "code",
   "execution_count": 42,
   "id": "U9EtgEGe5WAh",
   "metadata": {
    "colab": {
     "base_uri": "https://localhost:8080/"
    },
    "id": "U9EtgEGe5WAh",
    "outputId": "0484c878-aee3-4ed6-fcc7-453408448576"
   },
   "outputs": [
    {
     "name": "stdout",
     "output_type": "stream",
     "text": [
      "Fitting 3 folds for each of 648 candidates, totalling 1944 fits\n",
      "{'max_depth': None, 'max_features': 'auto', 'min_samples_leaf': 1, 'min_samples_split': 10, 'n_estimators': 10}\n"
     ]
    }
   ],
   "source": [
    "from sklearn.metrics import make_scorer, recall_score\n",
    "\n",
    "# Define the parameter grid\n",
    "param_grid = {\n",
    "    'n_estimators': [10, 50, 100, 200],\n",
    "    'max_features': ['auto', 'sqrt', 'log2'],\n",
    "    'max_depth': [None, 10, 20, 30, 40, 50],\n",
    "    'min_samples_split': [2, 5, 10],\n",
    "    'min_samples_leaf': [1, 2, 4],\n",
    "}\n",
    "\n",
    "# Create a base model\n",
    "rf = RandomForestClassifier()\n",
    "\n",
    "# Define the scoring methods for the GridSearch\n",
    "scoring = {'Precision': make_scorer(precision_score, average = 'macro'),\n",
    "           'Recall': make_scorer(recall_score, average = 'macro'),\n",
    "           'F1_Score': make_scorer(f1_score, average = 'macro')}\n",
    "\n",
    "# Instantiate the grid search model\n",
    "grid_search = GridSearchCV(estimator = rf, param_grid = param_grid,\n",
    "                           cv = 3, n_jobs = -1, verbose = 2, scoring=scoring,\n",
    "                           refit='F1_Score')\n",
    "\n",
    "# Fit the grid search to the data\n",
    "grid_search.fit(X_train, y_train)\n",
    "\n",
    "# Print out the best parameters\n",
    "print(grid_search.best_params_)\n"
   ]
  },
  {
   "cell_type": "code",
   "execution_count": 45,
   "id": "3xw4MvrL5V95",
   "metadata": {
    "id": "3xw4MvrL5V95"
   },
   "outputs": [],
   "source": [
    "y_pred_grid = grid_search.predict(X_test)"
   ]
  },
  {
   "cell_type": "code",
   "execution_count": 47,
   "id": "5p51PL5d5V61",
   "metadata": {
    "colab": {
     "base_uri": "https://localhost:8080/"
    },
    "id": "5p51PL5d5V61",
    "outputId": "1d90564b-e19f-4bee-836c-5ec7b3748875"
   },
   "outputs": [
    {
     "name": "stdout",
     "output_type": "stream",
     "text": [
      "Random Forest\n",
      "Precision: 0.45543303536422797\n",
      "Recall: 0.48623853211009177\n",
      "F1-score: 0.4622683074523828\n",
      "Confusion Matrix:\n",
      " [[236  45  46]\n",
      " [ 90  36  38]\n",
      " [ 90  27  46]]\n"
     ]
    }
   ],
   "source": [
    "print_metrics(y_test, y_pred_grid, \"Random Forest\")"
   ]
  },
  {
   "cell_type": "markdown",
   "id": "bf5aeff4",
   "metadata": {},
   "source": [
    "It's not even close to predicting significant movement up or down."
   ]
  },
  {
   "cell_type": "markdown",
   "id": "92999e78",
   "metadata": {},
   "source": [
    "## Conclusion"
   ]
  },
  {
   "cell_type": "markdown",
   "id": "b4743fc8",
   "metadata": {},
   "source": [
    "Assuming that all the data is already in the price and with the help of technical analysis alone you can predict significant movements of asset is wrong. There are a number of factors influencing investors behavior that go beyond historical movements.\n",
    "\n",
    "Of course, the project does not exclude the possibility of effective use of this type of analysis. A considerable limitation, and the disadvantage of the approach used, was the setting of the target as a significant upward or downward movement of the next day. \n",
    "\n",
    "It is possible that a study focused on whether there would be a significant movement within 'x' days could have proved much more accurate. Nevertheless, in such a case there would have been a risk of adjusting the approach to suit the expected result, which is a crucial mistake."
   ]
  },
  {
   "cell_type": "code",
   "execution_count": null,
   "id": "0f67625d",
   "metadata": {},
   "outputs": [],
   "source": []
  }
 ],
 "metadata": {
  "accelerator": "GPU",
  "colab": {
   "gpuType": "T4",
   "provenance": []
  },
  "kernelspec": {
   "display_name": "Python 3 (ipykernel)",
   "language": "python",
   "name": "python3"
  },
  "language_info": {
   "codemirror_mode": {
    "name": "ipython",
    "version": 3
   },
   "file_extension": ".py",
   "mimetype": "text/x-python",
   "name": "python",
   "nbconvert_exporter": "python",
   "pygments_lexer": "ipython3",
   "version": "3.9.13"
  }
 },
 "nbformat": 4,
 "nbformat_minor": 5
}
